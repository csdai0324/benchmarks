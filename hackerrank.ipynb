{
 "cells": [
  {
   "cell_type": "code",
   "execution_count": 17,
   "metadata": {
    "ExecuteTime": {
     "end_time": "2020-07-13T06:05:16.021475Z",
     "start_time": "2020-07-13T06:05:16.019260Z"
    }
   },
   "outputs": [],
   "source": [
    "s =\"aaaabbbbcccc\"\n",
    "s = list(s)\n",
    "min_ptr = 0\n",
    "max_ptr = len(s) - 1"
   ]
  },
  {
   "cell_type": "code",
   "execution_count": 35,
   "metadata": {
    "ExecuteTime": {
     "end_time": "2020-07-13T06:15:22.629747Z",
     "start_time": "2020-07-13T06:15:22.627087Z"
    }
   },
   "outputs": [],
   "source": [
    "prices = [8,4,6,2,3]"
   ]
  },
  {
   "cell_type": "markdown",
   "metadata": {
    "ExecuteTime": {
     "end_time": "2020-07-13T06:10:26.889350Z",
     "start_time": "2020-07-13T06:10:26.886187Z"
    }
   },
   "source": [
    "Given the array prices where prices[i] is the price of the ith item in a shop. There is a special discount for items in the shop, if you buy the ith item, then you will receive a discount equivalent to prices[j] where j is the minimum index such that j > i and prices[j] <= prices[i], otherwise, you will not receive any discount at all."
   ]
  },
  {
   "cell_type": "code",
   "execution_count": 36,
   "metadata": {
    "ExecuteTime": {
     "end_time": "2020-07-13T06:15:23.486305Z",
     "start_time": "2020-07-13T06:15:23.482532Z"
    }
   },
   "outputs": [],
   "source": [
    "for i in range(len(prices)):\n",
    "    for j in range(len(prices)):\n",
    "        if i == j:\n",
    "             continue\n",
    "        if j > i and prices[j] <= prices[i]:\n",
    "            prices[i] -= prices[j]"
   ]
  },
  {
   "cell_type": "code",
   "execution_count": 37,
   "metadata": {
    "ExecuteTime": {
     "end_time": "2020-07-13T06:15:23.630262Z",
     "start_time": "2020-07-13T06:15:23.626876Z"
    }
   },
   "outputs": [
    {
     "data": {
      "text/plain": [
       "[2, 2, 1, 2, 3]"
      ]
     },
     "execution_count": 37,
     "metadata": {},
     "output_type": "execute_result"
    }
   ],
   "source": [
    "prices"
   ]
  },
  {
   "cell_type": "code",
   "execution_count": 76,
   "metadata": {
    "ExecuteTime": {
     "end_time": "2020-07-13T06:29:29.603292Z",
     "start_time": "2020-07-13T06:29:29.601628Z"
    }
   },
   "outputs": [],
   "source": [
    "n = 13"
   ]
  },
  {
   "cell_type": "code",
   "execution_count": 78,
   "metadata": {
    "ExecuteTime": {
     "end_time": "2020-07-13T06:29:32.969912Z",
     "start_time": "2020-07-13T06:29:32.966991Z"
    }
   },
   "outputs": [
    {
     "data": {
      "text/plain": [
       "'aaaaaaaaaaaaa'"
      ]
     },
     "execution_count": 78,
     "metadata": {},
     "output_type": "execute_result"
    }
   ],
   "source": [
    "res = []\n",
    "if n % 2:\n",
    "    res.append('a'*n)\n",
    "else:\n",
    "    res.append('a'*(n-1) + 'b')\n",
    "return res[0]"
   ]
  },
  {
   "cell_type": "code",
   "execution_count": null,
   "metadata": {},
   "outputs": [],
   "source": []
  }
 ],
 "metadata": {
  "kernelspec": {
   "display_name": "Python 3",
   "language": "python",
   "name": "python3"
  },
  "language_info": {
   "codemirror_mode": {
    "name": "ipython",
    "version": 3
   },
   "file_extension": ".py",
   "mimetype": "text/x-python",
   "name": "python",
   "nbconvert_exporter": "python",
   "pygments_lexer": "ipython3",
   "version": "3.6.9"
  }
 },
 "nbformat": 4,
 "nbformat_minor": 4
}
