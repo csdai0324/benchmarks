{
 "cells": [
  {
   "cell_type": "code",
   "execution_count": 93,
   "metadata": {
    "ExecuteTime": {
     "end_time": "2020-07-06T03:01:21.748155Z",
     "start_time": "2020-07-06T03:01:21.745778Z"
    }
   },
   "outputs": [],
   "source": [
    "num = 14\n",
    "steps = 0"
   ]
  },
  {
   "cell_type": "code",
   "execution_count": 94,
   "metadata": {
    "ExecuteTime": {
     "end_time": "2020-07-06T03:01:21.901076Z",
     "start_time": "2020-07-06T03:01:21.897017Z"
    }
   },
   "outputs": [
    {
     "name": "stdout",
     "output_type": "stream",
     "text": [
      "14\n",
      "7.0\n",
      "6.0\n",
      "3.0\n",
      "2.0\n",
      "1.0\n"
     ]
    }
   ],
   "source": [
    "while num > 0:\n",
    "    print(num)\n",
    "    if num % 2 == 0:\n",
    "        num /= 2\n",
    "    else:\n",
    "        num -= 1\n",
    "    steps += 1"
   ]
  },
  {
   "cell_type": "code",
   "execution_count": 95,
   "metadata": {
    "ExecuteTime": {
     "end_time": "2020-07-06T03:01:22.066375Z",
     "start_time": "2020-07-06T03:01:22.063109Z"
    }
   },
   "outputs": [
    {
     "data": {
      "text/plain": [
       "6"
      ]
     },
     "execution_count": 95,
     "metadata": {},
     "output_type": "execute_result"
    }
   ],
   "source": [
    "steps"
   ]
  },
  {
   "cell_type": "code",
   "execution_count": null,
   "metadata": {},
   "outputs": [],
   "source": []
  }
 ],
 "metadata": {
  "kernelspec": {
   "display_name": "Python 3",
   "language": "python",
   "name": "python3"
  },
  "language_info": {
   "codemirror_mode": {
    "name": "ipython",
    "version": 3
   },
   "file_extension": ".py",
   "mimetype": "text/x-python",
   "name": "python",
   "nbconvert_exporter": "python",
   "pygments_lexer": "ipython3",
   "version": "3.6.9"
  }
 },
 "nbformat": 4,
 "nbformat_minor": 4
}
