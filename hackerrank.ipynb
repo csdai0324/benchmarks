{
 "cells": [
  {
   "cell_type": "code",
   "execution_count": 1,
   "metadata": {
    "ExecuteTime": {
     "end_time": "2020-07-16T05:14:52.122029Z",
     "start_time": "2020-07-16T05:14:52.119132Z"
    }
   },
   "outputs": [],
   "source": [
    "s =\"aaaabbbbcccc\"\n",
    "s = list(s)\n",
    "min_ptr = 0\n",
    "max_ptr = len(s) - 1"
   ]
  },
  {
   "cell_type": "code",
   "execution_count": 35,
   "metadata": {
    "ExecuteTime": {
     "end_time": "2020-07-13T06:15:22.629747Z",
     "start_time": "2020-07-13T06:15:22.627087Z"
    }
   },
   "outputs": [],
   "source": [
    "prices = [8,4,6,2,3]"
   ]
  },
  {
   "cell_type": "markdown",
   "metadata": {
    "ExecuteTime": {
     "end_time": "2020-07-13T06:10:26.889350Z",
     "start_time": "2020-07-13T06:10:26.886187Z"
    }
   },
   "source": [
    "Given the array prices where prices[i] is the price of the ith item in a shop. There is a special discount for items in the shop, if you buy the ith item, then you will receive a discount equivalent to prices[j] where j is the minimum index such that j > i and prices[j] <= prices[i], otherwise, you will not receive any discount at all."
   ]
  },
  {
   "cell_type": "code",
   "execution_count": 36,
   "metadata": {
    "ExecuteTime": {
     "end_time": "2020-07-13T06:15:23.486305Z",
     "start_time": "2020-07-13T06:15:23.482532Z"
    }
   },
   "outputs": [],
   "source": [
    "for i in range(len(prices)):\n",
    "    for j in range(len(prices)):\n",
    "        if i == j:\n",
    "             continue\n",
    "        if j > i and prices[j] <= prices[i]:\n",
    "            prices[i] -= prices[j]"
   ]
  },
  {
   "cell_type": "code",
   "execution_count": 37,
   "metadata": {
    "ExecuteTime": {
     "end_time": "2020-07-13T06:15:23.630262Z",
     "start_time": "2020-07-13T06:15:23.626876Z"
    }
   },
   "outputs": [
    {
     "data": {
      "text/plain": [
       "[2, 2, 1, 2, 3]"
      ]
     },
     "execution_count": 37,
     "metadata": {},
     "output_type": "execute_result"
    }
   ],
   "source": [
    "prices"
   ]
  },
  {
   "cell_type": "code",
   "execution_count": 76,
   "metadata": {
    "ExecuteTime": {
     "end_time": "2020-07-13T06:29:29.603292Z",
     "start_time": "2020-07-13T06:29:29.601628Z"
    }
   },
   "outputs": [],
   "source": [
    "n = 13"
   ]
  },
  {
   "cell_type": "code",
   "execution_count": 78,
   "metadata": {
    "ExecuteTime": {
     "end_time": "2020-07-13T06:29:32.969912Z",
     "start_time": "2020-07-13T06:29:32.966991Z"
    }
   },
   "outputs": [
    {
     "data": {
      "text/plain": [
       "'aaaaaaaaaaaaa'"
      ]
     },
     "execution_count": 78,
     "metadata": {},
     "output_type": "execute_result"
    }
   ],
   "source": [
    "res = []\n",
    "if n % 2:\n",
    "    res.append('a'*n)\n",
    "else:\n",
    "    res.append('a'*(n-1) + 'b')\n",
    "return res[0]"
   ]
  },
  {
   "cell_type": "code",
   "execution_count": 90,
   "metadata": {
    "ExecuteTime": {
     "end_time": "2020-07-13T06:48:25.537010Z",
     "start_time": "2020-07-13T06:48:25.533610Z"
    }
   },
   "outputs": [],
   "source": [
    "matrix = [[36376,85652,21002,4510],[68246,64237,42962,9974],[32768,97721,47338,5841],[55103,18179,79062,46542]]"
   ]
  },
  {
   "cell_type": "code",
   "execution_count": 94,
   "metadata": {
    "ExecuteTime": {
     "end_time": "2020-07-13T06:50:24.940944Z",
     "start_time": "2020-07-13T06:50:24.935984Z"
    }
   },
   "outputs": [
    {
     "name": "stdout",
     "output_type": "stream",
     "text": [
      "[36376, 85652, 21002, 4510] [36376, 68246, 32768, 55103]\n",
      "[68246, 64237, 42962, 9974] [85652, 64237, 97721, 18179]\n",
      "[32768, 97721, 47338, 5841] [21002, 42962, 47338, 79062]\n",
      "[55103, 18179, 79062, 46542] [4510, 9974, 5841, 46542]\n"
     ]
    },
    {
     "data": {
      "text/plain": [
       "[]"
      ]
     },
     "execution_count": 94,
     "metadata": {},
     "output_type": "execute_result"
    }
   ],
   "source": [
    "magic_number = []\n",
    "for row, col in zip(matrix, list(map(list, zip(*matrix)))):\n",
    "    print(row, col)\n",
    "    if min(row) == max(col):\n",
    "        magic_number.append(min(row))\n",
    "magic_number"
   ]
  },
  {
   "cell_type": "code",
   "execution_count": 119,
   "metadata": {
    "ExecuteTime": {
     "end_time": "2020-07-13T07:05:21.818069Z",
     "start_time": "2020-07-13T07:05:21.815271Z"
    }
   },
   "outputs": [],
   "source": [
    "nums = [4,3,10,9,8]\n",
    "nums = sorted(nums)[::-1]"
   ]
  },
  {
   "cell_type": "code",
   "execution_count": 121,
   "metadata": {
    "ExecuteTime": {
     "end_time": "2020-07-13T07:06:05.868990Z",
     "start_time": "2020-07-13T07:06:05.866261Z"
    }
   },
   "outputs": [
    {
     "name": "stdout",
     "output_type": "stream",
     "text": [
      "[10, 9]\n",
      "[10, 9, 8]\n",
      "[10, 9, 8, 4]\n"
     ]
    }
   ],
   "source": [
    "for i in range(len(nums)):\n",
    "    if sum(nums[:i]) > sum(nums[i:]):\n",
    "        return (nums[:i])"
   ]
  },
  {
   "cell_type": "code",
   "execution_count": 126,
   "metadata": {
    "ExecuteTime": {
     "end_time": "2020-07-13T07:12:13.040621Z",
     "start_time": "2020-07-13T07:12:13.037009Z"
    }
   },
   "outputs": [],
   "source": [
    "mat = [[1,1,0,0,0], [1,1,1,1,0], [1,0,0,0,0], [1,1,0,0,0], [1,1,1,1,1]]"
   ]
  },
  {
   "cell_type": "code",
   "execution_count": 132,
   "metadata": {
    "ExecuteTime": {
     "end_time": "2020-07-13T07:13:40.070929Z",
     "start_time": "2020-07-13T07:13:40.067481Z"
    }
   },
   "outputs": [],
   "source": [
    "k = 3\n",
    "row_count = []\n",
    "row_index = []\n",
    "for idx, row in enumerate(mat):\n",
    "    row_index.append(idx)\n",
    "    row_count.append(sum(row))"
   ]
  },
  {
   "cell_type": "code",
   "execution_count": 144,
   "metadata": {
    "ExecuteTime": {
     "end_time": "2020-07-13T07:16:13.237329Z",
     "start_time": "2020-07-13T07:16:13.233752Z"
    }
   },
   "outputs": [],
   "source": [
    "res = []\n",
    "i = 0\n",
    "while i < k:\n",
    "    res.append(list(sorted(zip(row_count, row_index)))[i][1])\n",
    "    i += 1"
   ]
  },
  {
   "cell_type": "code",
   "execution_count": 145,
   "metadata": {
    "ExecuteTime": {
     "end_time": "2020-07-13T07:16:15.187477Z",
     "start_time": "2020-07-13T07:16:15.184761Z"
    }
   },
   "outputs": [
    {
     "data": {
      "text/plain": [
       "[2, 0, 3]"
      ]
     },
     "execution_count": 145,
     "metadata": {},
     "output_type": "execute_result"
    }
   ],
   "source": [
    "res"
   ]
  },
  {
   "cell_type": "code",
   "execution_count": 186,
   "metadata": {
    "ExecuteTime": {
     "end_time": "2020-07-13T07:29:17.491455Z",
     "start_time": "2020-07-13T07:29:17.486216Z"
    }
   },
   "outputs": [
    {
     "data": {
      "text/plain": [
       "(['0b0', '0b1', '0b10', '0b11', '0b100', '0b101', '0b110', '0b111', '0b1000'],\n",
       " ['0b0', '0b1', '0b10', '0b100', '0b1000', '0b101', '0b11', '0b110', '0b111'])"
      ]
     },
     "execution_count": 186,
     "metadata": {},
     "output_type": "execute_result"
    }
   ],
   "source": [
    "arr = [0,1,2,3,4,5,6,7,8]\n",
    "list((map(fn, arr))), sorted(map(fn, arr))"
   ]
  },
  {
   "cell_type": "code",
   "execution_count": 188,
   "metadata": {
    "ExecuteTime": {
     "end_time": "2020-07-13T07:50:09.747469Z",
     "start_time": "2020-07-13T07:50:09.742778Z"
    }
   },
   "outputs": [
    {
     "data": {
      "text/plain": [
       "[0, 1, 2, 4, 8, 5, 3, 6, 7]"
      ]
     },
     "execution_count": 188,
     "metadata": {},
     "output_type": "execute_result"
    }
   ],
   "source": [
    "fn = lambda x: bin(x)\n",
    "fn2 = lambda x: int(x, 2)\n",
    "\n",
    "list(map(fn2, sorted((map(fn, arr)))))"
   ]
  },
  {
   "cell_type": "code",
   "execution_count": 197,
   "metadata": {
    "ExecuteTime": {
     "end_time": "2020-07-13T07:51:30.004613Z",
     "start_time": "2020-07-13T07:51:30.002642Z"
    }
   },
   "outputs": [],
   "source": [
    "target = [1,2] \n",
    "n = 4"
   ]
  },
  {
   "cell_type": "code",
   "execution_count": 28,
   "metadata": {
    "ExecuteTime": {
     "end_time": "2020-07-15T02:38:18.920149Z",
     "start_time": "2020-07-15T02:38:18.918274Z"
    }
   },
   "outputs": [],
   "source": [
    "sentence = \"this problem is an easy problem\"\n",
    "searchWord = \"pro\""
   ]
  },
  {
   "cell_type": "code",
   "execution_count": 34,
   "metadata": {
    "ExecuteTime": {
     "end_time": "2020-07-15T02:39:34.577996Z",
     "start_time": "2020-07-15T02:39:34.575425Z"
    }
   },
   "outputs": [
    {
     "name": "stdout",
     "output_type": "stream",
     "text": [
      "problem\n",
      "2\n",
      "problem\n",
      "6\n"
     ]
    }
   ],
   "source": [
    "for idx, sent in enumerate(sentence.split()):\n",
    "    if sent.startswith(searchWord):\n",
    "        return (idx + 1)\n",
    "return -1"
   ]
  },
  {
   "cell_type": "code",
   "execution_count": 35,
   "metadata": {
    "ExecuteTime": {
     "end_time": "2020-07-15T02:48:23.495089Z",
     "start_time": "2020-07-15T02:48:23.492702Z"
    }
   },
   "outputs": [],
   "source": [
    "nums = [-3,2,-3,4,2]"
   ]
  },
  {
   "cell_type": "code",
   "execution_count": 74,
   "metadata": {
    "ExecuteTime": {
     "end_time": "2020-07-15T03:09:31.243814Z",
     "start_time": "2020-07-15T03:09:31.238933Z"
    }
   },
   "outputs": [
    {
     "name": "stdout",
     "output_type": "stream",
     "text": [
      "[9, 3, 6]\n"
     ]
    },
    {
     "data": {
      "text/plain": [
       "[[9, 1, 2], [3, 4, 5], [6, 7, 8]]"
      ]
     },
     "execution_count": 74,
     "metadata": {},
     "output_type": "execute_result"
    }
   ],
   "source": [
    "grid = [[1,2,3],[4,5,6],[7,8,9]]\n",
    "k = 1\n",
    "for i in range(k):\n",
    "    temp = []\n",
    "    for j in range(len(grid)):\n",
    "        temp.append(grid[j][-1])\n",
    "    temp = [temp[-1]] + temp[:-1]\n",
    "    for j in range(len(grid)):\n",
    "        grid[j] = [temp[j]] + grid[j][:-1]\n",
    "grid"
   ]
  },
  {
   "cell_type": "code",
   "execution_count": 81,
   "metadata": {
    "ExecuteTime": {
     "end_time": "2020-07-15T03:14:31.815043Z",
     "start_time": "2020-07-15T03:14:31.813270Z"
    }
   },
   "outputs": [],
   "source": [
    "s = \"abbcccddddeeeeedcba\""
   ]
  },
  {
   "cell_type": "code",
   "execution_count": 82,
   "metadata": {
    "ExecuteTime": {
     "end_time": "2020-07-15T03:14:32.053754Z",
     "start_time": "2020-07-15T03:14:32.051980Z"
    }
   },
   "outputs": [],
   "source": [
    "res, count = 0, 1"
   ]
  },
  {
   "cell_type": "code",
   "execution_count": 84,
   "metadata": {
    "ExecuteTime": {
     "end_time": "2020-07-15T03:14:45.350758Z",
     "start_time": "2020-07-15T03:14:45.347552Z"
    }
   },
   "outputs": [
    {
     "data": {
      "text/plain": [
       "5"
      ]
     },
     "execution_count": 84,
     "metadata": {},
     "output_type": "execute_result"
    }
   ],
   "source": [
    "res, count = 0, 1\n",
    "last = s[0]\n",
    "for ele in s[1:]:\n",
    "    if ele == last:\n",
    "        count += 1\n",
    "        if count > res:\n",
    "            res = count\n",
    "    else:\n",
    "        count = 1\n",
    "    last = ele\n",
    "res"
   ]
  },
  {
   "cell_type": "code",
   "execution_count": 85,
   "metadata": {
    "ExecuteTime": {
     "end_time": "2020-07-15T03:17:32.418132Z",
     "start_time": "2020-07-15T03:17:32.416048Z"
    }
   },
   "outputs": [],
   "source": [
    "words = [\"mass\",\"as\",\"hero\",\"superhero\"]"
   ]
  },
  {
   "cell_type": "code",
   "execution_count": 94,
   "metadata": {
    "ExecuteTime": {
     "end_time": "2020-07-15T03:54:54.682757Z",
     "start_time": "2020-07-15T03:54:54.678620Z"
    }
   },
   "outputs": [
    {
     "data": {
      "text/plain": [
       "6"
      ]
     },
     "execution_count": 94,
     "metadata": {},
     "output_type": "execute_result"
    }
   ],
   "source": [
    "arr = [1,2,2,6,6,6,6,7,10]\n",
    "d = dict()\n",
    "res = 0\n",
    "for ele in arr:\n",
    "    if ele in d:\n",
    "        d[ele] += 1\n",
    "    else:\n",
    "        d[ele] = 1\n",
    "for key, value in d.items():\n",
    "    if value >= (len(arr) / 4):\n",
    "        res = key\n",
    "res"
   ]
  },
  {
   "cell_type": "code",
   "execution_count": 117,
   "metadata": {
    "ExecuteTime": {
     "end_time": "2020-07-15T05:15:37.855622Z",
     "start_time": "2020-07-15T05:15:37.850321Z"
    }
   },
   "outputs": [
    {
     "data": {
      "text/plain": [
       "[5, 3, 4, 2, 8, 6, 7, 1, 3]"
      ]
     },
     "execution_count": 117,
     "metadata": {},
     "output_type": "execute_result"
    }
   ],
   "source": [
    "arr = [37,12,28,9,100,56,80,5,12]\n",
    "sorted_arr = sorted(list(set(arr)))\n",
    "res = []\n",
    "for ele in arr:\n",
    "    res.append(sorted_arr.index(ele) + 1)\n",
    "res"
   ]
  },
  {
   "cell_type": "code",
   "execution_count": 165,
   "metadata": {
    "ExecuteTime": {
     "end_time": "2020-07-15T05:54:16.362915Z",
     "start_time": "2020-07-15T05:54:16.361301Z"
    }
   },
   "outputs": [],
   "source": [
    "str1 = \"ABABABAB\"\n",
    "str2 = \"ABAB\""
   ]
  },
  {
   "cell_type": "code",
   "execution_count": 197,
   "metadata": {
    "ExecuteTime": {
     "end_time": "2020-07-15T06:25:40.664883Z",
     "start_time": "2020-07-15T06:25:40.661160Z"
    }
   },
   "outputs": [
    {
     "data": {
      "text/plain": [
       "'ABAB'"
      ]
     },
     "execution_count": 197,
     "metadata": {},
     "output_type": "execute_result"
    }
   ],
   "source": [
    "res = []\n",
    "for i in range(1, min(len(str1), len(str2)) + 1):\n",
    "    if str1 == str1[:i]*(len(str1)//len(str1[:i])) and str2 == str1[:i]*(len(str2)//len(str1[:i])):\n",
    "        res.append(str1[:i])\n",
    "res[-1]"
   ]
  },
  {
   "cell_type": "code",
   "execution_count": 222,
   "metadata": {
    "ExecuteTime": {
     "end_time": "2020-07-15T06:37:15.032463Z",
     "start_time": "2020-07-15T06:37:15.030143Z"
    }
   },
   "outputs": [],
   "source": [
    "logs = [\"a1 9 2 3 1\",\"g1 act car\",\"zo4 4 7\",\"ab1 off key dog\",\"a8 act zoo\",\"a2 act car\"]"
   ]
  },
  {
   "cell_type": "code",
   "execution_count": 225,
   "metadata": {
    "ExecuteTime": {
     "end_time": "2020-07-15T06:37:40.457375Z",
     "start_time": "2020-07-15T06:37:40.450981Z"
    }
   },
   "outputs": [
    {
     "data": {
      "text/plain": [
       "['g1 act car',\n",
       " 'a8 act zoo',\n",
       " 'a2 act car',\n",
       " 'ab1 off key dog',\n",
       " 'a1 9 2 3 1',\n",
       " 'zo4 4 7']"
      ]
     },
     "execution_count": 225,
     "metadata": {},
     "output_type": "execute_result"
    }
   ],
   "source": [
    "let = []\n",
    "dig = []\n",
    "for log in logs:\n",
    "    if log.split()[1].isdigit():\n",
    "        dig.append(log)\n",
    "    else:\n",
    "        let.append(log)\n",
    "\n",
    "sorted(sorted(let, key=lambda x: x.split()[1]), key=lambda x: x.split()[1]) +  dig"
   ]
  },
  {
   "cell_type": "code",
   "execution_count": 226,
   "metadata": {
    "ExecuteTime": {
     "end_time": "2020-07-15T06:44:10.720936Z",
     "start_time": "2020-07-15T06:44:10.718639Z"
    }
   },
   "outputs": [],
   "source": [
    "s = \"011101\""
   ]
  },
  {
   "cell_type": "code",
   "execution_count": 236,
   "metadata": {
    "ExecuteTime": {
     "end_time": "2020-07-15T06:48:20.887112Z",
     "start_time": "2020-07-15T06:48:20.882498Z"
    }
   },
   "outputs": [
    {
     "data": {
      "text/plain": [
       "5"
      ]
     },
     "execution_count": 236,
     "metadata": {},
     "output_type": "execute_result"
    }
   ],
   "source": [
    "score = 0\n",
    "i = 1\n",
    "while i < len(s):\n",
    "    temp = list(s[:i]).count('0') + list(s[i:]).count('1')\n",
    "    if temp > score:\n",
    "        score = temp\n",
    "    i += 1\n",
    "score"
   ]
  },
  {
   "cell_type": "code",
   "execution_count": 248,
   "metadata": {
    "ExecuteTime": {
     "end_time": "2020-07-15T07:01:21.760957Z",
     "start_time": "2020-07-15T07:01:21.759016Z"
    }
   },
   "outputs": [],
   "source": [
    "s = \"00110011\""
   ]
  },
  {
   "cell_type": "code",
   "execution_count": 276,
   "metadata": {
    "ExecuteTime": {
     "end_time": "2020-07-15T07:15:18.179223Z",
     "start_time": "2020-07-15T07:15:18.175694Z"
    }
   },
   "outputs": [
    {
     "name": "stdout",
     "output_type": "stream",
     "text": [
      "00\n",
      "001\n",
      "0011\n",
      "00110\n",
      "001100\n",
      "0011001\n",
      "00110011\n"
     ]
    }
   ],
   "source": [
    "for i in range(2, len(s) + 1):\n",
    "    print(s[:i])"
   ]
  },
  {
   "cell_type": "code",
   "execution_count": 277,
   "metadata": {
    "ExecuteTime": {
     "end_time": "2020-07-15T07:55:32.844693Z",
     "start_time": "2020-07-15T07:55:32.842760Z"
    }
   },
   "outputs": [],
   "source": [
    "s = \"covid2019\""
   ]
  },
  {
   "cell_type": "code",
   "execution_count": 280,
   "metadata": {
    "ExecuteTime": {
     "end_time": "2020-07-15T07:59:15.718922Z",
     "start_time": "2020-07-15T07:59:15.711802Z"
    }
   },
   "outputs": [
    {
     "data": {
      "text/plain": [
       "'c2o0v1i9d'"
      ]
     },
     "execution_count": 280,
     "metadata": {},
     "output_type": "execute_result"
    }
   ],
   "source": [
    "res = ''\n",
    "ch = []\n",
    "dig = []\n",
    "for ele in list(s):\n",
    "    if ele.isdigit():\n",
    "        dig.append(ele)\n",
    "    else:\n",
    "        ch.append(ele)\n",
    "if abs(len(dig) - len(ch)) > 1:\n",
    "    pass\n",
    "if len(dig) > len(ch):\n",
    "    for c, d in zip(ch +[''], dig):\n",
    "        res += d\n",
    "        res += c\n",
    "else:\n",
    "    for c, d in zip(ch, dig +['']):\n",
    "        res += c\n",
    "        res += d\n",
    "res"
   ]
  },
  {
   "cell_type": "code",
   "execution_count": 283,
   "metadata": {
    "ExecuteTime": {
     "end_time": "2020-07-15T08:35:19.284514Z",
     "start_time": "2020-07-15T08:35:19.278987Z"
    }
   },
   "outputs": [
    {
     "name": "stdout",
     "output_type": "stream",
     "text": [
      "(1, 0)\n"
     ]
    }
   ],
   "source": [
    "path = \"NES\"\n",
    "last = (0, 0)\n",
    "visited = [last]\n",
    "for ele in list(path):\n",
    "    if ele == 'N':\n",
    "        last = (last[0], last[1] + 1)\n",
    "    elif ele == 'E':\n",
    "        last = (last[0] + 1, last[1])\n",
    "    elif ele == 'S':\n",
    "        last = (last[0], last[1] - 1)\n",
    "    elif ele == 'W':\n",
    "        last = (last[0] - 1, last[1])\n",
    "    if last in visited:\n",
    "        return True\n",
    "    visited.append(last)\n",
    "print(last)"
   ]
  },
  {
   "cell_type": "code",
   "execution_count": 1,
   "metadata": {
    "ExecuteTime": {
     "end_time": "2020-07-16T05:16:43.707017Z",
     "start_time": "2020-07-16T05:16:43.703558Z"
    }
   },
   "outputs": [],
   "source": [
    "employees = [[1, 5, [2, 3]], [2, 3, []], [3, 3, []]]\n",
    "id = 1\n",
    "sub = set()\n",
    "value = 0"
   ]
  },
  {
   "cell_type": "code",
   "execution_count": 2,
   "metadata": {
    "ExecuteTime": {
     "end_time": "2020-07-16T05:17:03.179692Z",
     "start_time": "2020-07-16T05:17:03.168220Z"
    }
   },
   "outputs": [
    {
     "data": {
      "text/plain": [
       "11"
      ]
     },
     "execution_count": 2,
     "metadata": {},
     "output_type": "execute_result"
    }
   ],
   "source": [
    "sub = set()\n",
    "value = 0\n",
    "for employee in employees:\n",
    "    if employee[0] == id or employee[0] in sub:\n",
    "        sub.update(employee[2])\n",
    "        value += employee[1]\n",
    "value"
   ]
  },
  {
   "cell_type": "code",
   "execution_count": 6,
   "metadata": {
    "ExecuteTime": {
     "end_time": "2020-07-16T05:21:50.853609Z",
     "start_time": "2020-07-16T05:21:50.844044Z"
    }
   },
   "outputs": [
    {
     "name": "stdout",
     "output_type": "stream",
     "text": [
      "[]\n",
      "[]\n",
      "[[1, 2, 1], [2, 2, 0], [1, 0, 1]]\n"
     ]
    }
   ],
   "source": [
    "image = [[1,1,1],\n",
    "         [1,1,0],\n",
    "         [1,0,1]]\n",
    "sr = 1\n",
    "sc = 1\n",
    "newColor = 2\n",
    "\n",
    "stack = [(sr, sc)]\n",
    "visited = []\n",
    "\n",
    "while stack:\n",
    "    x, y = stack.pop()\n",
    "    near = [(x + 1, y), (x, y - 1), (x, y + 1), (x - 1, y)]\n",
    "    for v in near:\n",
    "        x_, y_ = v\n",
    "        if min(x_, y_) < 0 or max(x_, y_) > len(image):\n",
    "            continue\n",
    "        visited.append((x_, y_))\n",
    "        if image[x_][y_] == image[sr][sc] and image[sr][sc] != 0:\n",
    "            print(stack)\n",
    "            image[x_][y_] = newColor\n",
    "            if (x_, y_) not in visited:\n",
    "                stack.append((x_, y_))\n",
    "        \n",
    "image[sr][sc] = newColor\n",
    "print(image)"
   ]
  },
  {
   "cell_type": "code",
   "execution_count": 23,
   "metadata": {
    "ExecuteTime": {
     "end_time": "2020-07-16T05:36:16.424138Z",
     "start_time": "2020-07-16T05:36:16.421205Z"
    }
   },
   "outputs": [],
   "source": [
    "moves = [[0,0],[2,0],[1,1],[2,1],[2,2]]"
   ]
  },
  {
   "cell_type": "code",
   "execution_count": 48,
   "metadata": {
    "ExecuteTime": {
     "end_time": "2020-07-16T05:43:08.212399Z",
     "start_time": "2020-07-16T05:43:08.205168Z"
    }
   },
   "outputs": [
    {
     "name": "stdout",
     "output_type": "stream",
     "text": [
      "['0', '0', '0']\n",
      "['0', '0', '0']\n",
      "['0', '0', '0']\n",
      "Move 1 : [0, 0]\n",
      "['X', '0', '0']\n",
      "['X', '0', '0']\n",
      "['X', '0', '0']\n",
      "Move 2 : [2, 0]\n",
      "['X', '0', '0']\n",
      "['X', '0', '0']\n",
      "['X', '0', '0']\n",
      "Move 3 : [1, 1]\n",
      "['X', 'X', '0']\n",
      "['X', 'X', '0']\n",
      "['X', 'X', '0']\n",
      "Move 4 : [2, 1]\n",
      "['X', 'X', '0']\n",
      "['X', 'X', '0']\n",
      "['X', 'X', '0']\n",
      "Move 5 : [2, 2]\n",
      "['X', 'X', 'X']\n",
      "['X', 'X', 'X']\n",
      "['X', 'X', 'X']\n"
     ]
    }
   ],
   "source": [
    "grid = [['0', '0', '0']]*3\n",
    "print(grid[0])\n",
    "print(grid[1])\n",
    "print(grid[2])\n",
    "for idx, move in enumerate(moves):\n",
    "    x, y = move\n",
    "    grid[x][y] = 'X'\n",
    "    print('Move {} : {}'.format(idx+1, move))\n",
    "    print(grid[0])\n",
    "    print(grid[1])\n",
    "    print(grid[2])"
   ]
  },
  {
   "cell_type": "code",
   "execution_count": 49,
   "metadata": {
    "ExecuteTime": {
     "end_time": "2020-07-16T06:34:18.946865Z",
     "start_time": "2020-07-16T06:34:18.944276Z"
    }
   },
   "outputs": [],
   "source": [
    "bills = [5,5,5,10,20]"
   ]
  },
  {
   "cell_type": "code",
   "execution_count": 50,
   "metadata": {
    "ExecuteTime": {
     "end_time": "2020-07-16T06:38:48.052193Z",
     "start_time": "2020-07-16T06:38:48.043691Z"
    }
   },
   "outputs": [
    {
     "ename": "SyntaxError",
     "evalue": "'return' outside function (<ipython-input-50-f03f143d2445>, line 17)",
     "output_type": "error",
     "traceback": [
      "\u001b[0;36m  File \u001b[0;32m\"<ipython-input-50-f03f143d2445>\"\u001b[0;36m, line \u001b[0;32m17\u001b[0m\n\u001b[0;31m    return False\u001b[0m\n\u001b[0m    ^\u001b[0m\n\u001b[0;31mSyntaxError\u001b[0m\u001b[0;31m:\u001b[0m 'return' outside function\n"
     ]
    }
   ],
   "source": [
    "x5, x10, x20 = 0, 0, 0\n",
    "total = 0\n",
    "for bill in bills:\n",
    "    if bill == 5:\n",
    "        x5 += 1\n",
    "    elif bill == 10:\n",
    "        x10 += 1\n",
    "        x5 -= 1\n",
    "    elif bill == 20:\n",
    "        x20 += 1\n",
    "        if x10 >= 1 and x5 >= 1:\n",
    "            x10 -= 1\n",
    "            x5 -= 1\n",
    "        elif x10 < 1 and x5 >= 3:\n",
    "            x5 -= 3\n",
    "    if x5 < 0 or x10 < 0:\n",
    "        return False\n",
    "return True"
   ]
  },
  {
   "cell_type": "code",
   "execution_count": 147,
   "metadata": {
    "ExecuteTime": {
     "end_time": "2020-07-16T07:06:26.629721Z",
     "start_time": "2020-07-16T07:06:26.626975Z"
    }
   },
   "outputs": [],
   "source": [
    "M = [[1,1,1],\n",
    "     [1,0,1],\n",
    "     [1,1,1]]"
   ]
  },
  {
   "cell_type": "code",
   "execution_count": 148,
   "metadata": {
    "ExecuteTime": {
     "end_time": "2020-07-16T07:06:26.791029Z",
     "start_time": "2020-07-16T07:06:26.774258Z"
    }
   },
   "outputs": [],
   "source": [
    "res = []\n",
    "for i in range(len(M)):\n",
    "    row = []\n",
    "    for j in range(len(M[0])):\n",
    "        if i - 1 < 0 and j - 1 < 0:\n",
    "            row.append(int((M[i][j] + M[i+1][j+1] + M[i][j+1] + M[i+1][j]) / 4))\n",
    "        elif i - 1 < 0 and j + 1 >= len(M[0]):\n",
    "            row.append(int((M[i][j] + M[i+1][j-1] + M[i][j-1] + M[i+1][j]) / 4))\n",
    "        elif i + 1 >= len(M) and j - 1 < 0:\n",
    "            row.append(int((M[i][j] + M[i-1][j+1] + M[i][j+1] + M[i-1][j]) / 4))\n",
    "        elif i + 1 >= len(M) and j + 1 >= len(M[0]):\n",
    "            row.append(int((M[i][j] + M[i-1][j-1] + M[i][j-1] + M[i-1][j]) / 4))\n",
    "        elif i - 1 < 0:\n",
    "            row.append(int((M[i][j] + M[i][j-1] + M[i][j+1] + M[i+1][j] + M[i+1][j+1] + M[i+1][j-1]) / 6))\n",
    "        elif i + 1 >= len(M):\n",
    "            row.append(int((M[i][j] + M[i][j-1] + M[i][j+1] + M[i-1][j] + M[i-1][j+1] + M[i-1][j-1]) / 6))\n",
    "        elif j - 1 < 0:\n",
    "            row.append(int((M[i][j] + M[i-1][j] + M[i-1][j+1] + M[i][j+1] + M[i+1][j+1] + M[i+1][j]) / 6))\n",
    "        elif j + 1 >= len(M[0]):\n",
    "            row.append(int((M[i][j] + M[i-1][j] + M[i-1][j-1] + M[i][j-1] + M[i+1][j-1] + M[i+1][j]) / 6))\n",
    "        else:\n",
    "            row.append(int((M[i][j] + M[i-1][j] + M[i-1][j+1] + M[i][j+1] + M[i+1][j+1] + M[i+1][j] + M[i-1][j+1] + M[i-1][j-1])/8))\n",
    "    res.append(row)"
   ]
  },
  {
   "cell_type": "code",
   "execution_count": 149,
   "metadata": {
    "ExecuteTime": {
     "end_time": "2020-07-16T07:06:26.939712Z",
     "start_time": "2020-07-16T07:06:26.936094Z"
    }
   },
   "outputs": [
    {
     "data": {
      "text/plain": [
       "[[0, 0, 0], [0, 0, 0], [0, 0, 0]]"
      ]
     },
     "execution_count": 149,
     "metadata": {},
     "output_type": "execute_result"
    }
   ],
   "source": [
    "res"
   ]
  },
  {
   "cell_type": "code",
   "execution_count": 161,
   "metadata": {
    "ExecuteTime": {
     "end_time": "2020-07-16T07:19:38.833221Z",
     "start_time": "2020-07-16T07:19:38.830596Z"
    }
   },
   "outputs": [],
   "source": [
    "A = [3,-1,0,2]\n",
    "K = 3"
   ]
  },
  {
   "cell_type": "code",
   "execution_count": 162,
   "metadata": {
    "ExecuteTime": {
     "end_time": "2020-07-16T07:19:39.018216Z",
     "start_time": "2020-07-16T07:19:39.012574Z"
    }
   },
   "outputs": [
    {
     "data": {
      "text/plain": [
       "6"
      ]
     },
     "execution_count": 162,
     "metadata": {},
     "output_type": "execute_result"
    }
   ],
   "source": [
    "A = sorted(A)\n",
    "ne = 0\n",
    "for ele in A:\n",
    "    if ele < 0:\n",
    "        ne += 1\n",
    "if ne >= K or ne == 0:\n",
    "    for i in range(K):\n",
    "        A[i] *= -1\n",
    "elif:\n",
    "    for i in range(ne):\n",
    "        A[i] *= -1\n",
    "\n",
    "sum(A)"
   ]
  },
  {
   "cell_type": "code",
   "execution_count": 175,
   "metadata": {
    "ExecuteTime": {
     "end_time": "2020-07-16T08:51:33.066716Z",
     "start_time": "2020-07-16T08:51:33.064002Z"
    }
   },
   "outputs": [],
   "source": [
    "list1 = [\"Shogun\", \"Tapioca Express\", \"Burger King\", \"KFC\"]\n",
    "list2 = [\"Piatti\", \"The Grill at Torrey Pines\", \"Hungry Hunter Steakhouse\", \"Shogun\"]"
   ]
  },
  {
   "cell_type": "code",
   "execution_count": 176,
   "metadata": {
    "ExecuteTime": {
     "end_time": "2020-07-16T08:51:33.242146Z",
     "start_time": "2020-07-16T08:51:33.236271Z"
    }
   },
   "outputs": [
    {
     "data": {
      "text/plain": [
       "'Shogun'"
      ]
     },
     "execution_count": 176,
     "metadata": {},
     "output_type": "execute_result"
    }
   ],
   "source": [
    "lt = [list1, list2]\n",
    "if len(list1) > len(list2):\n",
    "    list1, list2 = list2, list1\n",
    "count = float('inf')\n",
    "res = None\n",
    "for ele in list1:\n",
    "    if ele in list2:\n",
    "        count = min(count, list2.index(ele) + list1.index(ele))\n",
    "        res = ele\n",
    "res"
   ]
  },
  {
   "cell_type": "code",
   "execution_count": 177,
   "metadata": {
    "ExecuteTime": {
     "end_time": "2020-07-16T09:00:30.250658Z",
     "start_time": "2020-07-16T09:00:30.247842Z"
    }
   },
   "outputs": [],
   "source": [
    "cost = [1, 100, 1, 1, 1, 100, 1, 1, 100, 1]"
   ]
  },
  {
   "cell_type": "code",
   "execution_count": 179,
   "metadata": {
    "ExecuteTime": {
     "end_time": "2020-07-16T09:08:06.068480Z",
     "start_time": "2020-07-16T09:08:06.063159Z"
    }
   },
   "outputs": [
    {
     "data": {
      "text/plain": [
       "6"
      ]
     },
     "execution_count": 179,
     "metadata": {},
     "output_type": "execute_result"
    }
   ],
   "source": [
    "i = 0\n",
    "total_cost = 0\n",
    "while i < len(cost):\n",
    "    if cost[i+1] > cost[i]:\n",
    "        total_cost += cost[i]\n",
    "        i += 1\n",
    "    else:\n",
    "        total_cost += cost[i+1]\n",
    "        i += 2\n",
    "total_cost"
   ]
  },
  {
   "cell_type": "code",
   "execution_count": 1,
   "metadata": {
    "ExecuteTime": {
     "end_time": "2020-07-17T02:19:49.976157Z",
     "start_time": "2020-07-17T02:19:49.973828Z"
    }
   },
   "outputs": [],
   "source": [
    "A = 'abcde'\n",
    "B = 'cdeab'"
   ]
  },
  {
   "cell_type": "code",
   "execution_count": 8,
   "metadata": {
    "ExecuteTime": {
     "end_time": "2020-07-17T02:22:51.929638Z",
     "start_time": "2020-07-17T02:22:51.925498Z"
    }
   },
   "outputs": [
    {
     "name": "stdout",
     "output_type": "stream",
     "text": [
      "True\n"
     ]
    }
   ],
   "source": [
    "i = 0\n",
    "while i < len(A):\n",
    "    ptr = len(A) - i\n",
    "    if A[:i] == B[ptr:] and A[i:] == B[:ptr]:\n",
    "        return True\n",
    "    i += 1\n",
    "return False"
   ]
  },
  {
   "cell_type": "code",
   "execution_count": 9,
   "metadata": {
    "ExecuteTime": {
     "end_time": "2020-07-17T02:26:09.821579Z",
     "start_time": "2020-07-17T02:26:09.819174Z"
    }
   },
   "outputs": [],
   "source": [
    "from datetime import datetime"
   ]
  },
  {
   "cell_type": "code",
   "execution_count": 15,
   "metadata": {
    "ExecuteTime": {
     "end_time": "2020-07-17T02:28:37.064044Z",
     "start_time": "2020-07-17T02:28:37.061733Z"
    }
   },
   "outputs": [],
   "source": [
    "date1 = \"2020-01-15\"\n",
    "date2 = \"2019-12-31\""
   ]
  },
  {
   "cell_type": "code",
   "execution_count": 26,
   "metadata": {
    "ExecuteTime": {
     "end_time": "2020-07-17T02:30:49.993273Z",
     "start_time": "2020-07-17T02:30:49.988124Z"
    }
   },
   "outputs": [
    {
     "data": {
      "text/plain": [
       "15"
      ]
     },
     "execution_count": 26,
     "metadata": {},
     "output_type": "execute_result"
    }
   ],
   "source": [
    "y, m, d = date1.split('-')\n",
    "y2, m2, d2 = date2.split('-')\n",
    "abs(datetime(int(y2), int(m2), int(d2)) - datetime(int(y), int(m) , int(d))).days"
   ]
  },
  {
   "cell_type": "code",
   "execution_count": 46,
   "metadata": {
    "ExecuteTime": {
     "end_time": "2020-07-17T02:41:04.432028Z",
     "start_time": "2020-07-17T02:41:04.426363Z"
    }
   },
   "outputs": [
    {
     "data": {
      "text/plain": [
       "({1, 2, 4}, {3, 4})"
      ]
     },
     "execution_count": 46,
     "metadata": {},
     "output_type": "execute_result"
    }
   ],
   "source": [
    "N = 4\n",
    "trust = [[1,3],[1,4],[2,3],[2,4],[4,3]]\n",
    "a = set([row[0] for row in trust])\n",
    "for j in list(set([row[1] for row in trust])):\n",
    "    if j not in a:\n",
    "        for i in list(a):\n",
    "            if [i, j] not in trust:\n",
    "                return -1\n",
    "        return j\n",
    "return -1"
   ]
  },
  {
   "cell_type": "code",
   "execution_count": 47,
   "metadata": {
    "ExecuteTime": {
     "end_time": "2020-07-17T02:52:47.067028Z",
     "start_time": "2020-07-17T02:52:47.064717Z"
    }
   },
   "outputs": [],
   "source": [
    "n = 19"
   ]
  },
  {
   "cell_type": "code",
   "execution_count": 57,
   "metadata": {
    "ExecuteTime": {
     "end_time": "2020-07-17T02:55:07.968218Z",
     "start_time": "2020-07-17T02:55:07.964326Z"
    }
   },
   "outputs": [
    {
     "name": "stdout",
     "output_type": "stream",
     "text": [
      "82\n",
      "68\n",
      "100\n",
      "1\n"
     ]
    }
   ],
   "source": [
    "showed = []\n",
    "while n != 1:\n",
    "    n = sum(list(map(lambda x: int(x)**2, list(str(n)))))\n",
    "    if n in showed:\n",
    "        return False\n",
    "    showed.append(n)\n",
    "return True"
   ]
  },
  {
   "cell_type": "code",
   "execution_count": 92,
   "metadata": {
    "ExecuteTime": {
     "end_time": "2020-07-17T03:41:54.419537Z",
     "start_time": "2020-07-17T03:41:54.408838Z"
    }
   },
   "outputs": [
    {
     "name": "stdout",
     "output_type": "stream",
     "text": [
      "[[3, 6], [4, 6]]\n",
      "[4, 6] [3, 6]\n"
     ]
    },
    {
     "data": {
      "text/plain": [
       "[[3, 6]]"
      ]
     },
     "execution_count": 92,
     "metadata": {},
     "output_type": "execute_result"
    }
   ],
   "source": [
    "S = \"abbxxxxzzy\"\n",
    "res = []\n",
    "lptr, rptr = 0, 0\n",
    "for idx, s in enumerate(S):\n",
    "    lptr, rptr = idx, idx\n",
    "    while S[rptr] == s and rptr < len(S) - 1:\n",
    "        if lptr != rptr and S[rptr + 1] != s:\n",
    "            res.append([lptr, rptr]) \n",
    "        rptr += 1\n",
    "res = list(filter(lambda x: x[1]-x[0] >= 2, res))\n",
    "i = 0\n",
    "print(res)\n",
    "while i < len(res) - 1:\n",
    "    print(res[i+1], res[i])\n",
    "    if res[i+1][1] == res[i][1]:\n",
    "        del res[i+1]\n",
    "    else:\n",
    "        i += 1\n",
    "res"
   ]
  },
  {
   "cell_type": "code",
   "execution_count": 108,
   "metadata": {
    "ExecuteTime": {
     "end_time": "2020-07-17T05:15:58.643379Z",
     "start_time": "2020-07-17T05:15:58.640645Z"
    }
   },
   "outputs": [],
   "source": [
    "m = 3\n",
    "n = 3\n",
    "operations = [[2,2],[3,3]]"
   ]
  },
  {
   "cell_type": "code",
   "execution_count": 109,
   "metadata": {
    "ExecuteTime": {
     "end_time": "2020-07-17T05:15:58.804068Z",
     "start_time": "2020-07-17T05:15:58.801302Z"
    }
   },
   "outputs": [],
   "source": [
    "m = [[0]*3 for i in range(3)]"
   ]
  },
  {
   "cell_type": "code",
   "execution_count": 110,
   "metadata": {
    "ExecuteTime": {
     "end_time": "2020-07-17T05:15:58.970083Z",
     "start_time": "2020-07-17T05:15:58.966927Z"
    }
   },
   "outputs": [],
   "source": [
    "m = [[0]*3 for i in range(3)]\n",
    "for op in operations:\n",
    "    x, y = op\n",
    "    for i in range(x):\n",
    "        for j in range(y):\n",
    "            m[i][j] += 1\n",
    "res = 0\n",
    "for r in m:\n",
    "    res += r.count(max(map(max, m)))\n",
    "return res"
   ]
  },
  {
   "cell_type": "code",
   "execution_count": 122,
   "metadata": {
    "ExecuteTime": {
     "end_time": "2020-07-17T05:27:39.806681Z",
     "start_time": "2020-07-17T05:27:39.802246Z"
    }
   },
   "outputs": [
    {
     "data": {
      "text/plain": [
       "datetime.datetime(2019, 2, 10, 0, 0)"
      ]
     },
     "execution_count": 122,
     "metadata": {},
     "output_type": "execute_result"
    }
   ],
   "source": [
    "date = \"2019-02-10\"\n",
    "lt = list(map(int, date.split('-')))\n",
    "datetime(lt[0], lt[1], lt[2])"
   ]
  },
  {
   "cell_type": "code",
   "execution_count": null,
   "metadata": {},
   "outputs": [],
   "source": []
  }
 ],
 "metadata": {
  "kernelspec": {
   "display_name": "Python 3",
   "language": "python",
   "name": "python3"
  },
  "language_info": {
   "codemirror_mode": {
    "name": "ipython",
    "version": 3
   },
   "file_extension": ".py",
   "mimetype": "text/x-python",
   "name": "python",
   "nbconvert_exporter": "python",
   "pygments_lexer": "ipython3",
   "version": "3.6.9"
  }
 },
 "nbformat": 4,
 "nbformat_minor": 4
}
