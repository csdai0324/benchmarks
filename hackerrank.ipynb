{
 "cells": [
  {
   "cell_type": "code",
   "execution_count": 17,
   "metadata": {
    "ExecuteTime": {
     "end_time": "2020-07-13T06:05:16.021475Z",
     "start_time": "2020-07-13T06:05:16.019260Z"
    }
   },
   "outputs": [],
   "source": [
    "s =\"aaaabbbbcccc\"\n",
    "s = list(s)\n",
    "min_ptr = 0\n",
    "max_ptr = len(s) - 1"
   ]
  },
  {
   "cell_type": "code",
   "execution_count": 35,
   "metadata": {
    "ExecuteTime": {
     "end_time": "2020-07-13T06:15:22.629747Z",
     "start_time": "2020-07-13T06:15:22.627087Z"
    }
   },
   "outputs": [],
   "source": [
    "prices = [8,4,6,2,3]"
   ]
  },
  {
   "cell_type": "markdown",
   "metadata": {
    "ExecuteTime": {
     "end_time": "2020-07-13T06:10:26.889350Z",
     "start_time": "2020-07-13T06:10:26.886187Z"
    }
   },
   "source": [
    "Given the array prices where prices[i] is the price of the ith item in a shop. There is a special discount for items in the shop, if you buy the ith item, then you will receive a discount equivalent to prices[j] where j is the minimum index such that j > i and prices[j] <= prices[i], otherwise, you will not receive any discount at all."
   ]
  },
  {
   "cell_type": "code",
   "execution_count": 36,
   "metadata": {
    "ExecuteTime": {
     "end_time": "2020-07-13T06:15:23.486305Z",
     "start_time": "2020-07-13T06:15:23.482532Z"
    }
   },
   "outputs": [],
   "source": [
    "for i in range(len(prices)):\n",
    "    for j in range(len(prices)):\n",
    "        if i == j:\n",
    "             continue\n",
    "        if j > i and prices[j] <= prices[i]:\n",
    "            prices[i] -= prices[j]"
   ]
  },
  {
   "cell_type": "code",
   "execution_count": 37,
   "metadata": {
    "ExecuteTime": {
     "end_time": "2020-07-13T06:15:23.630262Z",
     "start_time": "2020-07-13T06:15:23.626876Z"
    }
   },
   "outputs": [
    {
     "data": {
      "text/plain": [
       "[2, 2, 1, 2, 3]"
      ]
     },
     "execution_count": 37,
     "metadata": {},
     "output_type": "execute_result"
    }
   ],
   "source": [
    "prices"
   ]
  },
  {
   "cell_type": "code",
   "execution_count": 76,
   "metadata": {
    "ExecuteTime": {
     "end_time": "2020-07-13T06:29:29.603292Z",
     "start_time": "2020-07-13T06:29:29.601628Z"
    }
   },
   "outputs": [],
   "source": [
    "n = 13"
   ]
  },
  {
   "cell_type": "code",
   "execution_count": 78,
   "metadata": {
    "ExecuteTime": {
     "end_time": "2020-07-13T06:29:32.969912Z",
     "start_time": "2020-07-13T06:29:32.966991Z"
    }
   },
   "outputs": [
    {
     "data": {
      "text/plain": [
       "'aaaaaaaaaaaaa'"
      ]
     },
     "execution_count": 78,
     "metadata": {},
     "output_type": "execute_result"
    }
   ],
   "source": [
    "res = []\n",
    "if n % 2:\n",
    "    res.append('a'*n)\n",
    "else:\n",
    "    res.append('a'*(n-1) + 'b')\n",
    "return res[0]"
   ]
  },
  {
   "cell_type": "code",
   "execution_count": 90,
   "metadata": {
    "ExecuteTime": {
     "end_time": "2020-07-13T06:48:25.537010Z",
     "start_time": "2020-07-13T06:48:25.533610Z"
    }
   },
   "outputs": [],
   "source": [
    "matrix = [[36376,85652,21002,4510],[68246,64237,42962,9974],[32768,97721,47338,5841],[55103,18179,79062,46542]]"
   ]
  },
  {
   "cell_type": "code",
   "execution_count": 94,
   "metadata": {
    "ExecuteTime": {
     "end_time": "2020-07-13T06:50:24.940944Z",
     "start_time": "2020-07-13T06:50:24.935984Z"
    }
   },
   "outputs": [
    {
     "name": "stdout",
     "output_type": "stream",
     "text": [
      "[36376, 85652, 21002, 4510] [36376, 68246, 32768, 55103]\n",
      "[68246, 64237, 42962, 9974] [85652, 64237, 97721, 18179]\n",
      "[32768, 97721, 47338, 5841] [21002, 42962, 47338, 79062]\n",
      "[55103, 18179, 79062, 46542] [4510, 9974, 5841, 46542]\n"
     ]
    },
    {
     "data": {
      "text/plain": [
       "[]"
      ]
     },
     "execution_count": 94,
     "metadata": {},
     "output_type": "execute_result"
    }
   ],
   "source": [
    "magic_number = []\n",
    "for row, col in zip(matrix, list(map(list, zip(*matrix)))):\n",
    "    print(row, col)\n",
    "    if min(row) == max(col):\n",
    "        magic_number.append(min(row))\n",
    "magic_number"
   ]
  },
  {
   "cell_type": "code",
   "execution_count": 119,
   "metadata": {
    "ExecuteTime": {
     "end_time": "2020-07-13T07:05:21.818069Z",
     "start_time": "2020-07-13T07:05:21.815271Z"
    }
   },
   "outputs": [],
   "source": [
    "nums = [4,3,10,9,8]\n",
    "nums = sorted(nums)[::-1]"
   ]
  },
  {
   "cell_type": "code",
   "execution_count": 121,
   "metadata": {
    "ExecuteTime": {
     "end_time": "2020-07-13T07:06:05.868990Z",
     "start_time": "2020-07-13T07:06:05.866261Z"
    }
   },
   "outputs": [
    {
     "name": "stdout",
     "output_type": "stream",
     "text": [
      "[10, 9]\n",
      "[10, 9, 8]\n",
      "[10, 9, 8, 4]\n"
     ]
    }
   ],
   "source": [
    "for i in range(len(nums)):\n",
    "    if sum(nums[:i]) > sum(nums[i:]):\n",
    "        return (nums[:i])"
   ]
  },
  {
   "cell_type": "code",
   "execution_count": 126,
   "metadata": {
    "ExecuteTime": {
     "end_time": "2020-07-13T07:12:13.040621Z",
     "start_time": "2020-07-13T07:12:13.037009Z"
    }
   },
   "outputs": [],
   "source": [
    "mat = [[1,1,0,0,0], [1,1,1,1,0], [1,0,0,0,0], [1,1,0,0,0], [1,1,1,1,1]]"
   ]
  },
  {
   "cell_type": "code",
   "execution_count": 132,
   "metadata": {
    "ExecuteTime": {
     "end_time": "2020-07-13T07:13:40.070929Z",
     "start_time": "2020-07-13T07:13:40.067481Z"
    }
   },
   "outputs": [],
   "source": [
    "k = 3\n",
    "row_count = []\n",
    "row_index = []\n",
    "for idx, row in enumerate(mat):\n",
    "    row_index.append(idx)\n",
    "    row_count.append(sum(row))"
   ]
  },
  {
   "cell_type": "code",
   "execution_count": 144,
   "metadata": {
    "ExecuteTime": {
     "end_time": "2020-07-13T07:16:13.237329Z",
     "start_time": "2020-07-13T07:16:13.233752Z"
    }
   },
   "outputs": [],
   "source": [
    "res = []\n",
    "i = 0\n",
    "while i < k:\n",
    "    res.append(list(sorted(zip(row_count, row_index)))[i][1])\n",
    "    i += 1"
   ]
  },
  {
   "cell_type": "code",
   "execution_count": 145,
   "metadata": {
    "ExecuteTime": {
     "end_time": "2020-07-13T07:16:15.187477Z",
     "start_time": "2020-07-13T07:16:15.184761Z"
    }
   },
   "outputs": [
    {
     "data": {
      "text/plain": [
       "[2, 0, 3]"
      ]
     },
     "execution_count": 145,
     "metadata": {},
     "output_type": "execute_result"
    }
   ],
   "source": [
    "res"
   ]
  },
  {
   "cell_type": "code",
   "execution_count": 186,
   "metadata": {
    "ExecuteTime": {
     "end_time": "2020-07-13T07:29:17.491455Z",
     "start_time": "2020-07-13T07:29:17.486216Z"
    }
   },
   "outputs": [
    {
     "data": {
      "text/plain": [
       "(['0b0', '0b1', '0b10', '0b11', '0b100', '0b101', '0b110', '0b111', '0b1000'],\n",
       " ['0b0', '0b1', '0b10', '0b100', '0b1000', '0b101', '0b11', '0b110', '0b111'])"
      ]
     },
     "execution_count": 186,
     "metadata": {},
     "output_type": "execute_result"
    }
   ],
   "source": [
    "arr = [0,1,2,3,4,5,6,7,8]\n",
    "list((map(fn, arr))), sorted(map(fn, arr))"
   ]
  },
  {
   "cell_type": "code",
   "execution_count": 182,
   "metadata": {
    "ExecuteTime": {
     "end_time": "2020-07-13T07:28:03.309075Z",
     "start_time": "2020-07-13T07:28:03.306201Z"
    }
   },
   "outputs": [],
   "source": [
    "fn = lambda x: bin(x)\n",
    "fn2 = lambda x: int(x, 2)\n",
    "\n",
    "return list(map(fn2, sorted((map(fn, arr)))))\n",
    "\n"
   ]
  }
 ],
 "metadata": {
  "kernelspec": {
   "display_name": "Python 3",
   "language": "python",
   "name": "python3"
  },
  "language_info": {
   "codemirror_mode": {
    "name": "ipython",
    "version": 3
   },
   "file_extension": ".py",
   "mimetype": "text/x-python",
   "name": "python",
   "nbconvert_exporter": "python",
   "pygments_lexer": "ipython3",
   "version": "3.6.9"
  }
 },
 "nbformat": 4,
 "nbformat_minor": 4
}
