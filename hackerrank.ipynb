{
 "cells": [
  {
   "cell_type": "code",
   "execution_count": 17,
   "metadata": {
    "ExecuteTime": {
     "end_time": "2020-07-13T06:05:16.021475Z",
     "start_time": "2020-07-13T06:05:16.019260Z"
    }
   },
   "outputs": [],
   "source": [
    "s =\"aaaabbbbcccc\"\n",
    "s = list(s)\n",
    "min_ptr = 0\n",
    "max_ptr = len(s) - 1"
   ]
  },
  {
   "cell_type": "code",
   "execution_count": 35,
   "metadata": {
    "ExecuteTime": {
     "end_time": "2020-07-13T06:15:22.629747Z",
     "start_time": "2020-07-13T06:15:22.627087Z"
    }
   },
   "outputs": [],
   "source": [
    "prices = [8,4,6,2,3]"
   ]
  },
  {
   "cell_type": "markdown",
   "metadata": {
    "ExecuteTime": {
     "end_time": "2020-07-13T06:10:26.889350Z",
     "start_time": "2020-07-13T06:10:26.886187Z"
    }
   },
   "source": [
    "Given the array prices where prices[i] is the price of the ith item in a shop. There is a special discount for items in the shop, if you buy the ith item, then you will receive a discount equivalent to prices[j] where j is the minimum index such that j > i and prices[j] <= prices[i], otherwise, you will not receive any discount at all."
   ]
  },
  {
   "cell_type": "code",
   "execution_count": 36,
   "metadata": {
    "ExecuteTime": {
     "end_time": "2020-07-13T06:15:23.486305Z",
     "start_time": "2020-07-13T06:15:23.482532Z"
    }
   },
   "outputs": [],
   "source": [
    "for i in range(len(prices)):\n",
    "    for j in range(len(prices)):\n",
    "        if i == j:\n",
    "             continue\n",
    "        if j > i and prices[j] <= prices[i]:\n",
    "            prices[i] -= prices[j]"
   ]
  },
  {
   "cell_type": "code",
   "execution_count": 37,
   "metadata": {
    "ExecuteTime": {
     "end_time": "2020-07-13T06:15:23.630262Z",
     "start_time": "2020-07-13T06:15:23.626876Z"
    }
   },
   "outputs": [
    {
     "data": {
      "text/plain": [
       "[2, 2, 1, 2, 3]"
      ]
     },
     "execution_count": 37,
     "metadata": {},
     "output_type": "execute_result"
    }
   ],
   "source": [
    "prices"
   ]
  },
  {
   "cell_type": "code",
   "execution_count": 76,
   "metadata": {
    "ExecuteTime": {
     "end_time": "2020-07-13T06:29:29.603292Z",
     "start_time": "2020-07-13T06:29:29.601628Z"
    }
   },
   "outputs": [],
   "source": [
    "n = 13"
   ]
  },
  {
   "cell_type": "code",
   "execution_count": 78,
   "metadata": {
    "ExecuteTime": {
     "end_time": "2020-07-13T06:29:32.969912Z",
     "start_time": "2020-07-13T06:29:32.966991Z"
    }
   },
   "outputs": [
    {
     "data": {
      "text/plain": [
       "'aaaaaaaaaaaaa'"
      ]
     },
     "execution_count": 78,
     "metadata": {},
     "output_type": "execute_result"
    }
   ],
   "source": [
    "res = []\n",
    "if n % 2:\n",
    "    res.append('a'*n)\n",
    "else:\n",
    "    res.append('a'*(n-1) + 'b')\n",
    "return res[0]"
   ]
  },
  {
   "cell_type": "code",
   "execution_count": 90,
   "metadata": {
    "ExecuteTime": {
     "end_time": "2020-07-13T06:48:25.537010Z",
     "start_time": "2020-07-13T06:48:25.533610Z"
    }
   },
   "outputs": [],
   "source": [
    "matrix = [[36376,85652,21002,4510],[68246,64237,42962,9974],[32768,97721,47338,5841],[55103,18179,79062,46542]]"
   ]
  },
  {
   "cell_type": "code",
   "execution_count": 94,
   "metadata": {
    "ExecuteTime": {
     "end_time": "2020-07-13T06:50:24.940944Z",
     "start_time": "2020-07-13T06:50:24.935984Z"
    }
   },
   "outputs": [
    {
     "name": "stdout",
     "output_type": "stream",
     "text": [
      "[36376, 85652, 21002, 4510] [36376, 68246, 32768, 55103]\n",
      "[68246, 64237, 42962, 9974] [85652, 64237, 97721, 18179]\n",
      "[32768, 97721, 47338, 5841] [21002, 42962, 47338, 79062]\n",
      "[55103, 18179, 79062, 46542] [4510, 9974, 5841, 46542]\n"
     ]
    },
    {
     "data": {
      "text/plain": [
       "[]"
      ]
     },
     "execution_count": 94,
     "metadata": {},
     "output_type": "execute_result"
    }
   ],
   "source": [
    "magic_number = []\n",
    "for row, col in zip(matrix, list(map(list, zip(*matrix)))):\n",
    "    print(row, col)\n",
    "    if min(row) == max(col):\n",
    "        magic_number.append(min(row))\n",
    "magic_number"
   ]
  },
  {
   "cell_type": "code",
   "execution_count": 119,
   "metadata": {
    "ExecuteTime": {
     "end_time": "2020-07-13T07:05:21.818069Z",
     "start_time": "2020-07-13T07:05:21.815271Z"
    }
   },
   "outputs": [],
   "source": [
    "nums = [4,3,10,9,8]\n",
    "nums = sorted(nums)[::-1]"
   ]
  },
  {
   "cell_type": "code",
   "execution_count": 121,
   "metadata": {
    "ExecuteTime": {
     "end_time": "2020-07-13T07:06:05.868990Z",
     "start_time": "2020-07-13T07:06:05.866261Z"
    }
   },
   "outputs": [
    {
     "name": "stdout",
     "output_type": "stream",
     "text": [
      "[10, 9]\n",
      "[10, 9, 8]\n",
      "[10, 9, 8, 4]\n"
     ]
    }
   ],
   "source": [
    "for i in range(len(nums)):\n",
    "    if sum(nums[:i]) > sum(nums[i:]):\n",
    "        return (nums[:i])"
   ]
  },
  {
   "cell_type": "code",
   "execution_count": 126,
   "metadata": {
    "ExecuteTime": {
     "end_time": "2020-07-13T07:12:13.040621Z",
     "start_time": "2020-07-13T07:12:13.037009Z"
    }
   },
   "outputs": [],
   "source": [
    "mat = [[1,1,0,0,0], [1,1,1,1,0], [1,0,0,0,0], [1,1,0,0,0], [1,1,1,1,1]]"
   ]
  },
  {
   "cell_type": "code",
   "execution_count": 132,
   "metadata": {
    "ExecuteTime": {
     "end_time": "2020-07-13T07:13:40.070929Z",
     "start_time": "2020-07-13T07:13:40.067481Z"
    }
   },
   "outputs": [],
   "source": [
    "k = 3\n",
    "row_count = []\n",
    "row_index = []\n",
    "for idx, row in enumerate(mat):\n",
    "    row_index.append(idx)\n",
    "    row_count.append(sum(row))"
   ]
  },
  {
   "cell_type": "code",
   "execution_count": 144,
   "metadata": {
    "ExecuteTime": {
     "end_time": "2020-07-13T07:16:13.237329Z",
     "start_time": "2020-07-13T07:16:13.233752Z"
    }
   },
   "outputs": [],
   "source": [
    "res = []\n",
    "i = 0\n",
    "while i < k:\n",
    "    res.append(list(sorted(zip(row_count, row_index)))[i][1])\n",
    "    i += 1"
   ]
  },
  {
   "cell_type": "code",
   "execution_count": 145,
   "metadata": {
    "ExecuteTime": {
     "end_time": "2020-07-13T07:16:15.187477Z",
     "start_time": "2020-07-13T07:16:15.184761Z"
    }
   },
   "outputs": [
    {
     "data": {
      "text/plain": [
       "[2, 0, 3]"
      ]
     },
     "execution_count": 145,
     "metadata": {},
     "output_type": "execute_result"
    }
   ],
   "source": [
    "res"
   ]
  },
  {
   "cell_type": "code",
   "execution_count": 186,
   "metadata": {
    "ExecuteTime": {
     "end_time": "2020-07-13T07:29:17.491455Z",
     "start_time": "2020-07-13T07:29:17.486216Z"
    }
   },
   "outputs": [
    {
     "data": {
      "text/plain": [
       "(['0b0', '0b1', '0b10', '0b11', '0b100', '0b101', '0b110', '0b111', '0b1000'],\n",
       " ['0b0', '0b1', '0b10', '0b100', '0b1000', '0b101', '0b11', '0b110', '0b111'])"
      ]
     },
     "execution_count": 186,
     "metadata": {},
     "output_type": "execute_result"
    }
   ],
   "source": [
    "arr = [0,1,2,3,4,5,6,7,8]\n",
    "list((map(fn, arr))), sorted(map(fn, arr))"
   ]
  },
  {
   "cell_type": "code",
   "execution_count": 188,
   "metadata": {
    "ExecuteTime": {
     "end_time": "2020-07-13T07:50:09.747469Z",
     "start_time": "2020-07-13T07:50:09.742778Z"
    }
   },
   "outputs": [
    {
     "data": {
      "text/plain": [
       "[0, 1, 2, 4, 8, 5, 3, 6, 7]"
      ]
     },
     "execution_count": 188,
     "metadata": {},
     "output_type": "execute_result"
    }
   ],
   "source": [
    "fn = lambda x: bin(x)\n",
    "fn2 = lambda x: int(x, 2)\n",
    "\n",
    "list(map(fn2, sorted((map(fn, arr)))))"
   ]
  },
  {
   "cell_type": "code",
   "execution_count": 197,
   "metadata": {
    "ExecuteTime": {
     "end_time": "2020-07-13T07:51:30.004613Z",
     "start_time": "2020-07-13T07:51:30.002642Z"
    }
   },
   "outputs": [],
   "source": [
    "target = [1,2] \n",
    "n = 4"
   ]
  },
  {
   "cell_type": "code",
   "execution_count": 28,
   "metadata": {
    "ExecuteTime": {
     "end_time": "2020-07-15T02:38:18.920149Z",
     "start_time": "2020-07-15T02:38:18.918274Z"
    }
   },
   "outputs": [],
   "source": [
    "sentence = \"this problem is an easy problem\"\n",
    "searchWord = \"pro\""
   ]
  },
  {
   "cell_type": "code",
   "execution_count": 34,
   "metadata": {
    "ExecuteTime": {
     "end_time": "2020-07-15T02:39:34.577996Z",
     "start_time": "2020-07-15T02:39:34.575425Z"
    }
   },
   "outputs": [
    {
     "name": "stdout",
     "output_type": "stream",
     "text": [
      "problem\n",
      "2\n",
      "problem\n",
      "6\n"
     ]
    }
   ],
   "source": [
    "for idx, sent in enumerate(sentence.split()):\n",
    "    if sent.startswith(searchWord):\n",
    "        return (idx + 1)\n",
    "return -1"
   ]
  },
  {
   "cell_type": "code",
   "execution_count": 35,
   "metadata": {
    "ExecuteTime": {
     "end_time": "2020-07-15T02:48:23.495089Z",
     "start_time": "2020-07-15T02:48:23.492702Z"
    }
   },
   "outputs": [],
   "source": [
    "nums = [-3,2,-3,4,2]"
   ]
  },
  {
   "cell_type": "code",
   "execution_count": 74,
   "metadata": {
    "ExecuteTime": {
     "end_time": "2020-07-15T03:09:31.243814Z",
     "start_time": "2020-07-15T03:09:31.238933Z"
    }
   },
   "outputs": [
    {
     "name": "stdout",
     "output_type": "stream",
     "text": [
      "[9, 3, 6]\n"
     ]
    },
    {
     "data": {
      "text/plain": [
       "[[9, 1, 2], [3, 4, 5], [6, 7, 8]]"
      ]
     },
     "execution_count": 74,
     "metadata": {},
     "output_type": "execute_result"
    }
   ],
   "source": [
    "grid = [[1,2,3],[4,5,6],[7,8,9]]\n",
    "k = 1\n",
    "for i in range(k):\n",
    "    temp = []\n",
    "    for j in range(len(grid)):\n",
    "        temp.append(grid[j][-1])\n",
    "    temp = [temp[-1]] + temp[:-1]\n",
    "    for j in range(len(grid)):\n",
    "        grid[j] = [temp[j]] + grid[j][:-1]\n",
    "grid"
   ]
  },
  {
   "cell_type": "code",
   "execution_count": 81,
   "metadata": {
    "ExecuteTime": {
     "end_time": "2020-07-15T03:14:31.815043Z",
     "start_time": "2020-07-15T03:14:31.813270Z"
    }
   },
   "outputs": [],
   "source": [
    "s = \"abbcccddddeeeeedcba\""
   ]
  },
  {
   "cell_type": "code",
   "execution_count": 82,
   "metadata": {
    "ExecuteTime": {
     "end_time": "2020-07-15T03:14:32.053754Z",
     "start_time": "2020-07-15T03:14:32.051980Z"
    }
   },
   "outputs": [],
   "source": [
    "res, count = 0, 1"
   ]
  },
  {
   "cell_type": "code",
   "execution_count": 84,
   "metadata": {
    "ExecuteTime": {
     "end_time": "2020-07-15T03:14:45.350758Z",
     "start_time": "2020-07-15T03:14:45.347552Z"
    }
   },
   "outputs": [
    {
     "data": {
      "text/plain": [
       "5"
      ]
     },
     "execution_count": 84,
     "metadata": {},
     "output_type": "execute_result"
    }
   ],
   "source": [
    "res, count = 0, 1\n",
    "last = s[0]\n",
    "for ele in s[1:]:\n",
    "    if ele == last:\n",
    "        count += 1\n",
    "        if count > res:\n",
    "            res = count\n",
    "    else:\n",
    "        count = 1\n",
    "    last = ele\n",
    "res"
   ]
  },
  {
   "cell_type": "code",
   "execution_count": 85,
   "metadata": {
    "ExecuteTime": {
     "end_time": "2020-07-15T03:17:32.418132Z",
     "start_time": "2020-07-15T03:17:32.416048Z"
    }
   },
   "outputs": [],
   "source": [
    "words = [\"mass\",\"as\",\"hero\",\"superhero\"]"
   ]
  },
  {
   "cell_type": "code",
   "execution_count": 94,
   "metadata": {
    "ExecuteTime": {
     "end_time": "2020-07-15T03:54:54.682757Z",
     "start_time": "2020-07-15T03:54:54.678620Z"
    }
   },
   "outputs": [
    {
     "data": {
      "text/plain": [
       "6"
      ]
     },
     "execution_count": 94,
     "metadata": {},
     "output_type": "execute_result"
    }
   ],
   "source": [
    "arr = [1,2,2,6,6,6,6,7,10]\n",
    "d = dict()\n",
    "res = 0\n",
    "for ele in arr:\n",
    "    if ele in d:\n",
    "        d[ele] += 1\n",
    "    else:\n",
    "        d[ele] = 1\n",
    "for key, value in d.items():\n",
    "    if value >= (len(arr) / 4):\n",
    "        res = key\n",
    "res"
   ]
  },
  {
   "cell_type": "code",
   "execution_count": 117,
   "metadata": {
    "ExecuteTime": {
     "end_time": "2020-07-15T05:15:37.855622Z",
     "start_time": "2020-07-15T05:15:37.850321Z"
    }
   },
   "outputs": [
    {
     "data": {
      "text/plain": [
       "[5, 3, 4, 2, 8, 6, 7, 1, 3]"
      ]
     },
     "execution_count": 117,
     "metadata": {},
     "output_type": "execute_result"
    }
   ],
   "source": [
    "arr = [37,12,28,9,100,56,80,5,12]\n",
    "sorted_arr = sorted(list(set(arr)))\n",
    "res = []\n",
    "for ele in arr:\n",
    "    res.append(sorted_arr.index(ele) + 1)\n",
    "res"
   ]
  },
  {
   "cell_type": "code",
   "execution_count": 125,
   "metadata": {
    "ExecuteTime": {
     "end_time": "2020-07-15T05:25:43.376940Z",
     "start_time": "2020-07-15T05:25:43.374656Z"
    }
   },
   "outputs": [],
   "source": [
    "s = \"baabb\""
   ]
  },
  {
   "cell_type": "code",
   "execution_count": 128,
   "metadata": {
    "ExecuteTime": {
     "end_time": "2020-07-15T05:26:06.690628Z",
     "start_time": "2020-07-15T05:26:06.688416Z"
    }
   },
   "outputs": [
    {
     "name": "stdout",
     "output_type": "stream",
     "text": [
      "ba bb\n"
     ]
    }
   ],
   "source": [
    "step = 0\n",
    "if len(s) % 2:\n",
    "    print(s[:len(s)//2], s[len(s)//2 + 1:])\n",
    "    "
   ]
  },
  {
   "cell_type": "code",
   "execution_count": null,
   "metadata": {},
   "outputs": [],
   "source": [
    "def removePalindromeSub(self, s):\n",
    "    step = 0\n",
    "    if len(s) % 2:\n",
    "        if s[:len(s)//2] == s[len(s)//2 + 1:][::-1]:\n",
    "        \n",
    "        removePalindromeSub()"
   ]
  }
 ],
 "metadata": {
  "kernelspec": {
   "display_name": "Python 3",
   "language": "python",
   "name": "python3"
  },
  "language_info": {
   "codemirror_mode": {
    "name": "ipython",
    "version": 3
   },
   "file_extension": ".py",
   "mimetype": "text/x-python",
   "name": "python",
   "nbconvert_exporter": "python",
   "pygments_lexer": "ipython3",
   "version": "3.6.9"
  }
 },
 "nbformat": 4,
 "nbformat_minor": 4
}
