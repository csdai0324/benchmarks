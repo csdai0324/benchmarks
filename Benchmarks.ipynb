{
 "cells": [
  {
   "cell_type": "code",
   "execution_count": 1,
   "metadata": {
    "ExecuteTime": {
     "end_time": "2020-07-06T07:10:21.448515Z",
     "start_time": "2020-07-06T07:10:21.446023Z"
    }
   },
   "outputs": [],
   "source": [
    "import string\n",
    "from IPython.display import display, Math, Latex, Markdown"
   ]
  },
  {
   "cell_type": "code",
   "execution_count": 14,
   "metadata": {
    "ExecuteTime": {
     "end_time": "2020-07-06T08:28:25.393206Z",
     "start_time": "2020-07-06T08:28:25.387235Z"
    }
   },
   "outputs": [],
   "source": [
    "ref_1 = 'The cat is on the mat.'\n",
    "cand_1 = 'The cat, the cat on the mat.'\n",
    "ref_2 = 'There is a cat on the mat.'\n",
    "cand_2 = 'The the the the the the the the.'\n",
    "\n",
    "punctuation_list = string.punctuation\n",
    "fn = lambda x: x.lower().translate(str.maketrans('', '', string.punctuation))\n",
    "\n",
    "def extract(sentence):\n",
    "    sentence = fn(sentence)\n",
    "    uni_gram = sentence.split()\n",
    "    bi_gram = [' '.join(words) for words in zip(uni_gram[::], uni_gram[1::])]\n",
    "    tri_gram = [' '.join(words) for words in zip(uni_gram[::], uni_gram[1::], uni_gram[2::])]\n",
    "    return uni_gram, bi_gram, tri_gram"
   ]
  },
  {
   "cell_type": "markdown",
   "metadata": {},
   "source": [
    "## N-gram Evaluation\n",
    "\n",
    "### Precision\n",
    "\n",
    "\n",
    "$\n",
    "\\begin{align}\n",
    "\\cr\n",
    "\\quad\n",
    "P = \\frac{\\sum_{i=1}^{L} \\begin{cases} \n",
    "                        1 &, \\ w_i \\in ref \\cr\n",
    "                        0 &, \\ else   \\cr\n",
    "                      \\end{cases} }\n",
    "     {L}\n",
    "\\end{align}\n",
    "$"
   ]
  },
  {
   "cell_type": "markdown",
   "metadata": {
    "ExecuteTime": {
     "end_time": "2020-07-06T05:59:24.638338Z",
     "start_time": "2020-07-06T05:59:24.636203Z"
    },
    "variables": {
     "cand_1": "The cat, the cat on the mat.",
     "extract(cand_1)[0]": "[&#39;the&#39;, &#39;cat&#39;, &#39;the&#39;, &#39;cat&#39;, &#39;on&#39;, &#39;the&#39;, &#39;mat&#39;]",
     "extract(cand_1)[1]": "[&#39;the cat&#39;, &#39;cat the&#39;, &#39;the cat&#39;, &#39;cat on&#39;, &#39;on the&#39;, &#39;the mat&#39;]",
     "extract(cand_1)[2]": "[&#39;the cat the&#39;, &#39;cat the cat&#39;, &#39;the cat on&#39;, &#39;cat on the&#39;, &#39;on the mat&#39;]",
     "extract(ref_1)[0]": "[&#39;the&#39;, &#39;cat&#39;, &#39;is&#39;, &#39;on&#39;, &#39;the&#39;, &#39;mat&#39;]",
     "extract(ref_1)[1]": "[&#39;the cat&#39;, &#39;cat is&#39;, &#39;is on&#39;, &#39;on the&#39;, &#39;the mat&#39;]",
     "extract(ref_1)[2]": "[&#39;the cat is&#39;, &#39;cat is on&#39;, &#39;is on the&#39;, &#39;on the mat&#39;]",
     "fn(cand_1)": "the cat the cat on the mat",
     "fn(ref_1)": "the cat is on the mat",
     "ref_1": "The cat is on the mat."
    }
   },
   "source": [
    "### Example \n",
    "\n",
    "Reference\n",
    "\n",
    "`{{ref_1}}` \n",
    "\n",
    "$\\xrightarrow[\\text{}]{\\text{ Preprocessing }}$ `{{fn(ref_1)}}` \n",
    "     \n",
    "$\\xrightarrow[\\text{}]{\\text{Extract 1-gram}} $ `{{extract(ref_1)[0]}}`\n",
    "     \n",
    "$\\xrightarrow[\\text{}]{\\text{Extract 2-gram}} $ `{{extract(ref_1)[1]}}` \n",
    "\n",
    "$\\xrightarrow[\\text{}]{\\text{Extract 3-gram}} $ `{{extract(ref_1)[2]}}` \n",
    "\n",
    "Candidate\n",
    "\n",
    "`{{cand_1}}`\n",
    "\n",
    "$\\xrightarrow[\\text{}]{\\text{ Preprocessing }}$ `{{fn(cand_1)}}` \n",
    "     \n",
    "$\\xrightarrow[\\text{}]{\\text{Extract 1-gram}} $ `{{extract(cand_1)[0]}}` \n",
    "     \n",
    "$\\xrightarrow[\\text{}]{\\text{Extract 2-gram}} $ `{{extract(cand_1)[1]}}` \n",
    "\n",
    "$\\xrightarrow[\\text{}]{\\text{Extract 3-gram}} $ `{{extract(cand_1)[2]}}` "
   ]
  },
  {
   "cell_type": "markdown",
   "metadata": {
    "ExecuteTime": {
     "end_time": "2020-07-06T08:23:53.658343Z",
     "start_time": "2020-07-06T08:23:53.652476Z"
    }
   },
   "source": [
    "## Considering Recall %\n",
    "\n",
    "### Modified Precision\n",
    "\n",
    "$\n",
    "\\begin{align}\n",
    "\\cr\n",
    "\\quad\n",
    "P_n = \\frac{\\sum_{i=1}^{L} \\begin{cases} \n",
    "                        1 &, \\ w_i \\in ref \\cr\n",
    "                        0 &, \\ else   \\cr\n",
    "                      \\end{cases} }\n",
    "     {L}\n",
    "\\end{align}\n",
    "$"
   ]
  },
  {
   "cell_type": "markdown",
   "metadata": {
    "ExecuteTime": {
     "end_time": "2020-07-06T05:59:24.638338Z",
     "start_time": "2020-07-06T05:59:24.636203Z"
    },
    "variables": {
     "cand_2": "The the the the the the the the.",
     "extract(cand_2)[0]": "[&#39;the&#39;, &#39;the&#39;, &#39;the&#39;, &#39;the&#39;, &#39;the&#39;, &#39;the&#39;, &#39;the&#39;, &#39;the&#39;]",
     "extract(cand_2)[1]": "[&#39;the the&#39;, &#39;the the&#39;, &#39;the the&#39;, &#39;the the&#39;, &#39;the the&#39;, &#39;the the&#39;, &#39;the the&#39;]",
     "extract(cand_2)[2][:2] + ['...']": "[&#39;the the the&#39;, &#39;the the the&#39;, &#39;...&#39;]",
     "extract(ref_2)[0]": "[&#39;there&#39;, &#39;is&#39;, &#39;a&#39;, &#39;cat&#39;, &#39;on&#39;, &#39;the&#39;, &#39;mat&#39;]",
     "extract(ref_2)[1]": "[&#39;there is&#39;, &#39;is a&#39;, &#39;a cat&#39;, &#39;cat on&#39;, &#39;on the&#39;, &#39;the mat&#39;]",
     "extract(ref_2)[2]": "[&#39;there is a&#39;, &#39;is a cat&#39;, &#39;a cat on&#39;, &#39;cat on the&#39;, &#39;on the mat&#39;]",
     "fn(cand_2)": "the the the the the the the the",
     "fn(ref_2)": "there is a cat on the mat",
     "ref_2": "There is a cat on the mat."
    }
   },
   "source": [
    "### Example \n",
    "\n",
    "Reference\n",
    "\n",
    "`{{ref_2}}`\n",
    "\n",
    "$\\xrightarrow[\\text{}]{\\text{ Preprocessing }}$ `{{fn(ref_2)}}` \n",
    "     \n",
    "$\\xrightarrow[\\text{}]{\\text{Extract 1-gram}} $ `{{extract(ref_2)[0]}}`\n",
    "     \n",
    "$\\xrightarrow[\\text{}]{\\text{Extract 2-gram}} $ `{{extract(ref_2)[1]}}` \n",
    "\n",
    "$\\xrightarrow[\\text{}]{\\text{Extract 3-gram}} $ `{{extract(ref_2)[2]}}` \n",
    "\n",
    "Candidate\n",
    "\n",
    "`{{cand_2}}` \n",
    "\n",
    "$\\xrightarrow[\\text{}]{\\text{ Preprocessing }}$ `{{fn(cand_2)}}` \n",
    "     \n",
    "$\\xrightarrow[\\text{}]{\\text{Extract 1-gram}} $ `{{extract(cand_2)[0]}}`\n",
    "     \n",
    "$\\xrightarrow[\\text{}]{\\text{Extract 2-gram}} $ `{{extract(cand_2)[1]}}` \n",
    "\n",
    "$\\xrightarrow[\\text{}]{\\text{Extract 3-gram}} $ `{{extract(cand_2)[2][:2] + ['...']}}` "
   ]
  },
  {
   "cell_type": "markdown",
   "metadata": {},
   "source": [
    "## [BLEU - Bilingual Evaluation Understudy](https://www.aclweb.org/anthology/P02-1040.pdf)\n",
    "\n",
    "### Formula\n",
    "$\n",
    "\\begin{align}\n",
    "    \\quad\n",
    "        BLEU = BP \\cdot exp(\\sum_{n=1}^{N} w_n\\log_{}{P_n}) \\cr\n",
    "\\end{align}\n",
    "$\n",
    "    \n",
    "$\n",
    "\\begin{align}\n",
    "    \\quad\n",
    "        BP \\quad\\,\\ = \\begin{cases} \n",
    "                        1         &, \\ c > r   \\cr\n",
    "                        exp(1-\\frac{r}{c}) &, \\ x < 0   \\cr\n",
    "                      \\end{cases} \n",
    "\\end{align}\n",
    "$"
   ]
  },
  {
   "cell_type": "code",
   "execution_count": null,
   "metadata": {},
   "outputs": [],
   "source": []
  }
 ],
 "metadata": {
  "gist": {
   "data": {
    "description": "Benchmarks.ipynb",
    "public": true
   },
   "id": ""
  },
  "kernelspec": {
   "display_name": "Python 3",
   "language": "python",
   "name": "python3"
  },
  "language_info": {
   "codemirror_mode": {
    "name": "ipython",
    "version": 3
   },
   "file_extension": ".py",
   "mimetype": "text/x-python",
   "name": "python",
   "nbconvert_exporter": "python",
   "pygments_lexer": "ipython3",
   "version": "3.6.9"
  }
 },
 "nbformat": 4,
 "nbformat_minor": 4
}
