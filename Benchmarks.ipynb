{
 "cells": [
  {
   "cell_type": "code",
   "execution_count": 188,
   "metadata": {
    "ExecuteTime": {
     "end_time": "2020-07-08T06:46:34.716914Z",
     "start_time": "2020-07-08T06:46:34.709409Z"
    }
   },
   "outputs": [],
   "source": [
    "import string\n",
    "import operator \n",
    "import functools \n",
    "import numpy as np\n",
    "import pandas as pd\n",
    "\n",
    "from tabulate import tabulate\n",
    "from collections import Counter\n",
    "from IPython.display import display, Math, Latex, Markdown"
   ]
  },
  {
   "cell_type": "code",
   "execution_count": 224,
   "metadata": {
    "ExecuteTime": {
     "end_time": "2020-07-08T07:09:30.322320Z",
     "start_time": "2020-07-08T07:09:30.314741Z"
    }
   },
   "outputs": [],
   "source": [
    "ref_1 = 'The cat sat on the mat.'\n",
    "cand_1 = 'The cat is on the mat.'\n",
    "ref_2 = 'There is a cat on the mat.'\n",
    "cand_2 = 'The the the the the the the the.'\n",
    "\n",
    "punctuation_list = string.punctuation\n",
    "preprocess = lambda x: x.lower().translate(str.maketrans('', '', string.punctuation))\n",
    "\n",
    "def extract(sentence):\n",
    "    sentence = preprocess(sentence)\n",
    "    uni_gram = sentence.split()\n",
    "    bi_gram = [' '.join(words) for words in zip(uni_gram[::], uni_gram[1::])]\n",
    "    tri_gram = [' '.join(words) for words in zip(uni_gram[::], uni_gram[1::], uni_gram[2::])]\n",
    "    quad_gram = [' '.join(words) for words in zip(uni_gram[::], uni_gram[1::], uni_gram[2::], uni_gram[3::])]\n",
    "    return uni_gram, bi_gram, tri_gram, quad_gram"
   ]
  },
  {
   "cell_type": "markdown",
   "metadata": {},
   "source": [
    "## N-gram Evaluation"
   ]
  },
  {
   "cell_type": "markdown",
   "metadata": {
    "ExecuteTime": {
     "end_time": "2020-07-06T05:59:24.638338Z",
     "start_time": "2020-07-06T05:59:24.636203Z"
    },
    "variables": {
     "cand_1": "The cat is on the mat.",
     "extract(cand_1)[0]": "[&#39;the&#39;, &#39;cat&#39;, &#39;is&#39;, &#39;on&#39;, &#39;the&#39;, &#39;mat&#39;]",
     "extract(cand_1)[1]": "[&#39;the cat&#39;, &#39;cat is&#39;, &#39;is on&#39;, &#39;on the&#39;, &#39;the mat&#39;]",
     "extract(cand_1)[2]": "[&#39;the cat is&#39;, &#39;cat is on&#39;, &#39;is on the&#39;, &#39;on the mat&#39;]",
     "extract(ref_1)[0]": "[&#39;the&#39;, &#39;cat&#39;, &#39;sat&#39;, &#39;on&#39;, &#39;the&#39;, &#39;mat&#39;]",
     "extract(ref_1)[1]": "[&#39;the cat&#39;, &#39;cat sat&#39;, &#39;sat on&#39;, &#39;on the&#39;, &#39;the mat&#39;]",
     "extract(ref_1)[2]": "[&#39;the cat sat&#39;, &#39;cat sat on&#39;, &#39;sat on the&#39;, &#39;on the mat&#39;]",
     "preprocess(cand_1)": "the cat is on the mat",
     "preprocess(ref_1)": "the cat sat on the mat",
     "ref_1": "The cat sat on the mat."
    }
   },
   "source": [
    "### Example \n",
    "\n",
    "Reference\n",
    "\n",
    "`{{ref_1}}` \n",
    "\n",
    "$\\xrightarrow[\\text{}]{\\text{ Preprocessing }}$ `{{preprocess(ref_1)}}` \n",
    "     \n",
    "$\\xrightarrow[\\text{}]{\\text{Extract 1-gram}} $ `{{extract(ref_1)[0]}}`\n",
    "     \n",
    "$\\xrightarrow[\\text{}]{\\text{Extract 2-gram}} $ `{{extract(ref_1)[1]}}` \n",
    "\n",
    "$\\xrightarrow[\\text{}]{\\text{Extract 3-gram}} $ `{{extract(ref_1)[2]}}` \n",
    "\n",
    "Candidate\n",
    "\n",
    "`{{cand_1}}`\n",
    "\n",
    "$\\xrightarrow[\\text{}]{\\text{ Preprocessing }}$ `{{preprocess(cand_1)}}` \n",
    "     \n",
    "$\\xrightarrow[\\text{}]{\\text{Extract 1-gram}} $ `{{extract(cand_1)[0]}}` \n",
    "     \n",
    "$\\xrightarrow[\\text{}]{\\text{Extract 2-gram}} $ `{{extract(cand_1)[1]}}` \n",
    "\n",
    "$\\xrightarrow[\\text{}]{\\text{Extract 3-gram}} $ `{{extract(cand_1)[2]}}` "
   ]
  },
  {
   "cell_type": "markdown",
   "metadata": {
    "ExecuteTime": {
     "end_time": "2020-07-06T08:23:53.658343Z",
     "start_time": "2020-07-06T08:23:53.652476Z"
    }
   },
   "source": [
    "## Considering Recall %\n",
    "\n",
    "### Modified Precision - Clipping"
   ]
  },
  {
   "cell_type": "markdown",
   "metadata": {
    "ExecuteTime": {
     "end_time": "2020-07-06T05:59:24.638338Z",
     "start_time": "2020-07-06T05:59:24.636203Z"
    },
    "variables": {
     "cand_2": "The the the the the the the the.",
     "extract(cand_2)[0]": "[&#39;the&#39;, &#39;the&#39;, &#39;the&#39;, &#39;the&#39;, &#39;the&#39;, &#39;the&#39;, &#39;the&#39;, &#39;the&#39;]",
     "extract(cand_2)[1]": "[&#39;the the&#39;, &#39;the the&#39;, &#39;the the&#39;, &#39;the the&#39;, &#39;the the&#39;, &#39;the the&#39;, &#39;the the&#39;]",
     "extract(cand_2)[2][:2] + ['...']": "[&#39;the the the&#39;, &#39;the the the&#39;, &#39;...&#39;]",
     "preprocess(cand_2)": "the the the the the the the the"
    }
   },
   "source": [
    "### Example \n",
    "\n",
    "Candidate\n",
    "\n",
    "`{{cand_2}}` \n",
    "\n",
    "$\\xrightarrow[\\text{}]{\\text{ Preprocessing }}$ `{{preprocess(cand_2)}}` \n",
    "     \n",
    "$\\xrightarrow[\\text{}]{\\text{Extract 1-gram}} $ `{{extract(cand_2)[0]}}`\n",
    "     \n",
    "$\\xrightarrow[\\text{}]{\\text{Extract 2-gram}} $ `{{extract(cand_2)[1]}}` \n",
    "\n",
    "$\\xrightarrow[\\text{}]{\\text{Extract 3-gram}} $ `{{extract(cand_2)[2][:2] + ['...']}}` "
   ]
  },
  {
   "cell_type": "markdown",
   "metadata": {},
   "source": [
    "## [BLEU - Bilingual Evaluation Understudy](https://www.aclweb.org/anthology/P02-1040.pdf)\n",
    "\n",
    "### BLEU_n Formula\n",
    "\n",
    "$\n",
    "\\begin{align}\n",
    "    \\quad\n",
    "        BLEU = BP \\cdot exp(\\sum_{n=1}^{N} w_n\\log_{}{P_n}) \\cr\n",
    "\\end{align}\n",
    "$\n",
    "    \n",
    "$\n",
    "\\begin{align}\n",
    "    \\quad\n",
    "        BP \\quad\\,\\ = \\begin{cases} \n",
    "                        1         &, \\ c > r   \\cr\n",
    "                        exp(1-\\frac{r}{c}) &, \\ c \\leq 0   \\cr\n",
    "                      \\end{cases} \n",
    "\\end{align}\n",
    "$"
   ]
  },
  {
   "cell_type": "code",
   "execution_count": 3,
   "metadata": {
    "ExecuteTime": {
     "end_time": "2020-07-08T03:40:00.154751Z",
     "start_time": "2020-07-08T03:40:00.146606Z"
    }
   },
   "outputs": [],
   "source": [
    "def BLEU_n(candidate, reference):\n",
    "    candidate = extract(candidate)\n",
    "    reference = extract(reference)\n",
    "    BLEU = 0\n",
    "    W_n = 1. / len(candidate)\n",
    "    for cand, ref in zip(candidate, reference):\n",
    "        BLEU += W_n * np.log(P_n(cand, ref))\n",
    "    BLEU = np.exp(BLEU) * BP(candidate[0], reference[0])\n",
    "    return BLEU\n",
    "\n",
    "def P_n(cand, ref):\n",
    "    count = 0\n",
    "    for c in cand:\n",
    "        if c in ref:\n",
    "            count += 1\n",
    "            ref.remove(c)\n",
    "    return 1 if count == 0 else count / len(cand)\n",
    "    \n",
    "def BP(candidate, reference):\n",
    "    c, r = len(candidate), len(reference)\n",
    "    return 1 if c > r else np.exp(1 - r / c)\n",
    "\n",
    "#BLEU_n(cand_1, ref_1)"
   ]
  },
  {
   "cell_type": "markdown",
   "metadata": {},
   "source": [
    "## [ROUGE - Recall-Oriented Understudy for Gisting Evaluation](https://www.aclweb.org/anthology/W04-1013.pdf)\n",
    "\n",
    "### Rouge-N Formula\n",
    "\n",
    "$\n",
    "\\begin{align}\n",
    "    \\quad\n",
    "        \\text{Rouge-N}\\; = \\frac{\\sum\\limits_{S \\in \\{\\textit{ReferenceSummaries}\\}} \n",
    "                                 \\sum\\limits_{gram_n \\in S} Count_{macth}(gram_n)}\n",
    "                                {\\sum\\limits_{S \\in \\{\\textit{ReferenceSummaries}\\}} \n",
    "                                 \\sum\\limits_{gram_n \\in S} Count(gram_n)}\n",
    "\\end{align}\n",
    "$\n",
    "    "
   ]
  },
  {
   "cell_type": "code",
   "execution_count": 4,
   "metadata": {
    "ExecuteTime": {
     "end_time": "2020-07-08T03:40:01.791492Z",
     "start_time": "2020-07-08T03:40:01.786544Z"
    }
   },
   "outputs": [],
   "source": [
    "ref_3 = 'The cat was under the bed.'\n",
    "cand_3 = 'The cat was found under the bed.'\n",
    "\n",
    "def Rouge_n(candidate, reference, n=1):\n",
    "    cand, ref = extract(candidate)[n-1], extract(reference)[n-1]\n",
    "    cand = list(map(lambda x: 1 if x in ref else 0, cand))\n",
    "    return functools.reduce(operator.add, cand) / len(ref)\n",
    "\n",
    "#Rouge_n(cand_3, ref_3)"
   ]
  },
  {
   "cell_type": "markdown",
   "metadata": {
    "variables": {
     "cand_1": "The cat is on the mat.",
     "preprocess(cand_1)": "the cat is on the mat",
     "preprocess(ref_1)": "the cat sat on the mat",
     "ref_1": "The cat sat on the mat."
    }
   },
   "source": [
    "### LCS(Longest Common Subsequence)\n",
    "\n",
    "#### Example \n",
    "\n",
    "Reference\n",
    "\n",
    "`{{ref_1}}` \n",
    "\n",
    "$\\xrightarrow[\\text{}]{\\text{ Preprocessing }}$ `{{preprocess(ref_1)}}` \n",
    "\n",
    "Candidate\n",
    "\n",
    "`{{cand_1}}`\n",
    "\n",
    "$\\xrightarrow[\\text{}]{\\text{ Preprocessing }}$ `{{preprocess(cand_1)}}` \n",
    "\n",
    "### Rouge-L Formula\n",
    "\n",
    "$\n",
    "\\begin{align}\n",
    "    \\cr\n",
    "    \\quad\n",
    "        R_{lcs} = \\frac{LCS(\\textit{Reference}, \\textit{Candidate})}{m}, \n",
    "                        \\; m \\;\\text{for }\\textit{Reference} \\text{ length} \\cr              \n",
    "        P_{lcs} = \\frac{LCS(\\textit{Reference}, \\textit{Candidate})}{n}, \n",
    "                        \\; n \\;\\text{for }\\textit{Candidate} \\text{ length} \\cr                      \n",
    "\\end{align}\n",
    "$\n",
    "\n",
    "$\n",
    "\\begin{align}\n",
    "    \\quad \\;\n",
    "        F_{lcs} = \\frac{(1+\\beta^2)R_{lcs}P_{lcs}}{R_{lcs} + \\beta^2P_{lcs}}  \n",
    "\\end{align}\n",
    "$"
   ]
  },
  {
   "cell_type": "code",
   "execution_count": 5,
   "metadata": {
    "ExecuteTime": {
     "end_time": "2020-07-08T03:40:03.443782Z",
     "start_time": "2020-07-08T03:40:03.434481Z"
    }
   },
   "outputs": [],
   "source": [
    "def Rouge_l(candidate, reference, beta=1.2):\n",
    "    cand, ref = extract(candidate)[0], extract(reference)[0]\n",
    "    lcs = LCS(cand, ref)\n",
    "    r_lcs, p_lcs = lcs / len(ref), lcs / len(cand)\n",
    "    return ((1 + beta**2)*r_lcs*p_lcs) / (r_lcs + beta**2*p_lcs)\n",
    "    \n",
    "def LCS(cand, ref):\n",
    "    l_c, l_r = len(cand), len(ref)\n",
    "    dp = np.zeros(shape=(l_c + 1, l_r + 1))\n",
    "    for i in range(l_c):\n",
    "        for j in range(l_r):\n",
    "            if cand[i] == ref[j]:  \n",
    "                dp[i + 1][j + 1] = dp[i][j] + 1\n",
    "            elif dp[i + 1][j] > dp[i][j + 1]:\n",
    "                dp[i + 1][j + 1] = dp[i + 1][j]\n",
    "            else: \n",
    "                dp[i + 1][j + 1] = dp[i][j + 1]\n",
    "    return int(dp[-1][-1])\n",
    "\n",
    "#Rouge_l(cand_1, ref_1)"
   ]
  },
  {
   "cell_type": "markdown",
   "metadata": {},
   "source": [
    "### Rouge-W\n",
    "   \n",
    "   - WLCS\n",
    "       - Weighted LCS-based statistics that favors consecutive LCSes.\n",
    "\n",
    "### Rouge-S\n",
    "\n",
    "   - Skip-gram\n",
    "       - Skip-bigram based co-occurrence statistics. \n",
    "       - Skip-bigram is any pair of words in their sentence order.\n",
    "       \n",
    "### Rouge-SU\n",
    "\n",
    "   - Skip-bigram plus unigram-based co-occurrence statistics."
   ]
  },
  {
   "cell_type": "markdown",
   "metadata": {},
   "source": [
    "## [CIDEr -  Consensus-based Image Description Evaluation](https://www.cv-foundation.org/openaccess/content_cvpr_2015/papers/Vedantam_CIDEr_Consensus-Based_Image_2015_CVPR_paper.pdf)\n",
    "\n",
    "### TF-IDF\n",
    "\n",
    "   - Term Frequency\n",
    "       \n",
    "       $ \n",
    "       \\begin{align}\n",
    "           \\quad \n",
    "           \\textit{TF}(𝑥)\n",
    "           \\;\\text{for count of term } x \\;\\text{ in the document}\n",
    "           \\cr\n",
    "       \\end{align}\n",
    "       $\n",
    "       \n",
    "       \n",
    "   - Inverse Document Frequency\n",
    "       \n",
    "       $ \n",
    "       \\begin{align}\n",
    "           \\quad \n",
    "           \\textit{IDF}(𝑥) = \\log \\frac{N + 1}{N(x) + 1} +1\n",
    "           ,\\; N\\;\\text{for total document count and }N(x) \\text{ for document which includes term } x\n",
    "           \\cr\n",
    "       \\end{align}\n",
    "       $\n",
    "       \n",
    "       \n",
    "   - TF-IDF\n",
    "   \n",
    "       $\n",
    "       \\begin{align}\n",
    "           \\quad\n",
    "           \\textit{TF-IDF}(x) = \\textit{TF}(x)\\;\\times\\;\\textit{IDF}(x) \\cr \n",
    "       \\end{align}\n",
    "       $"
   ]
  },
  {
   "cell_type": "code",
   "execution_count": 272,
   "metadata": {
    "ExecuteTime": {
     "end_time": "2020-07-08T07:48:44.990397Z",
     "start_time": "2020-07-08T07:48:44.966576Z"
    }
   },
   "outputs": [],
   "source": [
    "def gen_matrix(documents):\n",
    "    d = Counter()\n",
    "    for doc in documents:\n",
    "        d += Counter(doc)\n",
    "    d = dict(d.most_common()).fromkeys(d, 0)\n",
    "    matrix = []\n",
    "    for doc in documents:\n",
    "        dest = d.copy()  \n",
    "        dest.update(dict(Counter(doc)))\n",
    "        matrix.append(list(dest.values()))\n",
    "    return d, matrix\n",
    "\n",
    "def gen_table(d, matrix):\n",
    "    columns = {}\n",
    "    for idx, key in enumerate(list(d.keys()) +['Cos_Sim']):\n",
    "        columns.update({idx:key})\n",
    "    index = ['Candidate'] + ['Reference_{}'.format(i+1) for i in range(len(matrix) - 1)]\n",
    "    temp = []\n",
    "    for i in range(len(matrix)):\n",
    "        temp.append(matrix[i] + [cosine_similiraty(matrix[0], matrix[i])])\n",
    "    df = pd.DataFrame(temp).rename(columns=columns)\n",
    "    df.reset_index(drop=True, inplace=True)\n",
    "    df.index = index\n",
    "    return Markdown(df.to_markdown())\n",
    "\n",
    "def cosine_similiraty(cand, ref):\n",
    "    fn = lambda x: (np.sqrt(np.sum(np.power(x, 2))))\n",
    "    return np.dot(cand, ref) / (fn(cand) * fn(ref))\n",
    "\n",
    "table = []\n",
    "for i in range(0, 4):\n",
    "    table.append(gen_table(*gen_matrix([extract(cand_1)[i], \n",
    "                        extract(ref_1)[i], extract(ref_2)[i]])))"
   ]
  },
  {
   "cell_type": "markdown",
   "metadata": {
    "ExecuteTime": {
     "end_time": "2020-07-06T05:59:24.638338Z",
     "start_time": "2020-07-06T05:59:24.636203Z"
    },
    "variables": {
     "cand_1": "The cat is on the mat.",
     "extract(cand_1)[1]": "[&#39;the cat&#39;, &#39;cat is&#39;, &#39;is on&#39;, &#39;on the&#39;, &#39;the mat&#39;]",
     "extract(ref_1)[1]": "[&#39;the cat&#39;, &#39;cat sat&#39;, &#39;sat on&#39;, &#39;on the&#39;, &#39;the mat&#39;]",
     "extract(ref_2)[1]": "[&#39;there is&#39;, &#39;is a&#39;, &#39;a cat&#39;, &#39;cat on&#39;, &#39;on the&#39;, &#39;the mat&#39;]",
     "preprocess(cand_1)": "the cat is on the mat",
     "preprocess(ref_1)": "the cat sat on the mat",
     "preprocess(ref_2)": "there is a cat on the mat",
     "ref_1": "The cat sat on the mat.",
     "ref_2": "There is a cat on the mat.",
     "table[0]": "<table>\n<thead>\n<tr>\n<th align=\"left\"></th>\n<th align=\"right\">the</th>\n<th align=\"right\">cat</th>\n<th align=\"right\">is</th>\n<th align=\"right\">on</th>\n<th align=\"right\">mat</th>\n<th align=\"right\">sat</th>\n<th align=\"right\">there</th>\n<th align=\"right\">a</th>\n<th align=\"right\">Cos_Sim</th>\n</tr>\n</thead>\n<tbody><tr>\n<td align=\"left\">Candidate</td>\n<td align=\"right\">2</td>\n<td align=\"right\">1</td>\n<td align=\"right\">1</td>\n<td align=\"right\">1</td>\n<td align=\"right\">1</td>\n<td align=\"right\">0</td>\n<td align=\"right\">0</td>\n<td align=\"right\">0</td>\n<td align=\"right\">1</td>\n</tr>\n<tr>\n<td align=\"left\">Reference_1</td>\n<td align=\"right\">2</td>\n<td align=\"right\">1</td>\n<td align=\"right\">0</td>\n<td align=\"right\">1</td>\n<td align=\"right\">1</td>\n<td align=\"right\">1</td>\n<td align=\"right\">0</td>\n<td align=\"right\">0</td>\n<td align=\"right\">0.875</td>\n</tr>\n<tr>\n<td align=\"left\">Reference_2</td>\n<td align=\"right\">1</td>\n<td align=\"right\">1</td>\n<td align=\"right\">1</td>\n<td align=\"right\">1</td>\n<td align=\"right\">1</td>\n<td align=\"right\">0</td>\n<td align=\"right\">1</td>\n<td align=\"right\">1</td>\n<td align=\"right\">0.801784</td>\n</tr>\n</tbody></table>\n",
     "table[1]": "<table>\n<thead>\n<tr>\n<th align=\"left\"></th>\n<th align=\"right\">the cat</th>\n<th align=\"right\">cat is</th>\n<th align=\"right\">is on</th>\n<th align=\"right\">on the</th>\n<th align=\"right\">the mat</th>\n<th align=\"right\">cat sat</th>\n<th align=\"right\">sat on</th>\n<th align=\"right\">there is</th>\n<th align=\"right\">is a</th>\n<th align=\"right\">a cat</th>\n<th align=\"right\">cat on</th>\n<th align=\"right\">Cos_Sim</th>\n</tr>\n</thead>\n<tbody><tr>\n<td align=\"left\">Candidate</td>\n<td align=\"right\">1</td>\n<td align=\"right\">1</td>\n<td align=\"right\">1</td>\n<td align=\"right\">1</td>\n<td align=\"right\">1</td>\n<td align=\"right\">0</td>\n<td align=\"right\">0</td>\n<td align=\"right\">0</td>\n<td align=\"right\">0</td>\n<td align=\"right\">0</td>\n<td align=\"right\">0</td>\n<td align=\"right\">1</td>\n</tr>\n<tr>\n<td align=\"left\">Reference_1</td>\n<td align=\"right\">1</td>\n<td align=\"right\">0</td>\n<td align=\"right\">0</td>\n<td align=\"right\">1</td>\n<td align=\"right\">1</td>\n<td align=\"right\">1</td>\n<td align=\"right\">1</td>\n<td align=\"right\">0</td>\n<td align=\"right\">0</td>\n<td align=\"right\">0</td>\n<td align=\"right\">0</td>\n<td align=\"right\">0.6</td>\n</tr>\n<tr>\n<td align=\"left\">Reference_2</td>\n<td align=\"right\">0</td>\n<td align=\"right\">0</td>\n<td align=\"right\">0</td>\n<td align=\"right\">1</td>\n<td align=\"right\">1</td>\n<td align=\"right\">0</td>\n<td align=\"right\">0</td>\n<td align=\"right\">1</td>\n<td align=\"right\">1</td>\n<td align=\"right\">1</td>\n<td align=\"right\">1</td>\n<td align=\"right\">0.365148</td>\n</tr>\n</tbody></table>\n"
    }
   },
   "source": [
    "### Example \n",
    "\n",
    "Candidate\n",
    "\n",
    "`{{cand_1}}`\n",
    "\n",
    "$\\xrightarrow[\\text{}]{\\text{ Preprocessing }}$ `{{preprocess(cand_1)}}`     \n",
    "$\\xrightarrow[\\text{}]{\\text{Extract 2-gram}} $ `{{extract(cand_1)[1]}}` \n",
    "\n",
    "Reference_1\n",
    "\n",
    "`{{ref_1}}` \n",
    "\n",
    "$\\xrightarrow[\\text{}]{\\text{ Preprocessing }}$ `{{preprocess(ref_1)}}` \n",
    "$\\xrightarrow[\\text{}]{\\text{Extract 2-gram}}$ `{{extract(ref_1)[1]}}` \n",
    "\n",
    "Reference_2\n",
    "\n",
    "`{{ref_2}}` \n",
    "\n",
    "$\\xrightarrow[\\text{}]{\\text{ Preprocessing }}$ `{{preprocess(ref_2)}}` \n",
    "$\\xrightarrow[\\text{}]{\\text{Extract 2-gram}}$ `{{extract(ref_2)[1]}}`\n",
    "\n",
    "#### Doc-Term Matrix\n",
    "\n",
    "`{{table[0]}}`\n",
    "\n",
    "`{{table[1]}}`"
   ]
  },
  {
   "cell_type": "markdown",
   "metadata": {},
   "source": [
    "### Cosine Similiraty\n",
    "\n",
    "   - The cosine of two non-zero vectors can be derived by using the Euclidean dot product formula\n",
    "       \n",
    "       $\n",
    "       \\begin{align}\n",
    "           \\quad\n",
    "           A \\cdot B = \\lVert A \\rVert \\lVert B \\rVert \\cos{\\theta}\n",
    "           \\cr\n",
    "       \\end{align}\n",
    "       $\n",
    "       \n",
    "       \n",
    "   - Similiraty \n",
    "       \n",
    "       $\n",
    "       \\begin{align}\n",
    "           \\quad\n",
    "           \\textit{Similiraty } = \n",
    "           \\cos{(\\theta)} = \n",
    "           \\frac{A \\cdot B}\n",
    "                {\\lVert A \\rVert \\lVert B \\rVert} = \n",
    "           \\frac{\\sum\\limits_{i=1}^{N}A_i B_i}\n",
    "                {\\sqrt{\\sum\\limits_{i=1}^{N}A_i^2} \\sqrt{\\sum\\limits_{i=1}^{N}B_i^2}}, \n",
    "           \\text{ where } A_i \\text{ and } B_i \\text{are components of vector } A \\text{ and } B \\text{ respectively.}\n",
    "       \\end{align}\n",
    "       $"
   ]
  },
  {
   "cell_type": "markdown",
   "metadata": {},
   "source": [
    "### CIDEr_n Formula\n",
    "\n",
    "\n",
    "$\n",
    "\\begin{align}\n",
    "\\cr \\quad\n",
    "\\textit{CIDEr_n}(\\textit{candidate}, \n",
    "                 \\textit{reference}) = \n",
    "    \\frac{1}{M}\\sum\\limits_{i=1}^{M}\n",
    "    \\frac{ g^n(\\textit{candidate}) \\cdot g^n(\\textit{reference}) }\n",
    "         {\\lVert g^n(\\textit{candidate}) \\rVert \\times \\lVert g^n(\\textit{reference}) \\rVert},\n",
    "\\text{ where } g^n(x) \\text{ is  } \\textit{TF-IDF} \\text{ weight of n-gram in sentence } x \\text{.}\n",
    "\\end{align}\n",
    "$"
   ]
  },
  {
   "cell_type": "code",
   "execution_count": null,
   "metadata": {},
   "outputs": [],
   "source": [
    "    df = pd.DataFrame.from_dict(Counter(doc), orient='index') \\\n",
    "                .reset_index().rename(columns={'index':'Term', 0:'Count'})\n",
    "    display(df.style.hide_index())"
   ]
  }
 ],
 "metadata": {
  "gist": {
   "data": {
    "description": "Benchmarks.ipynb",
    "public": true
   },
   "id": ""
  },
  "kernelspec": {
   "display_name": "Python 3",
   "language": "python",
   "name": "python3"
  },
  "language_info": {
   "codemirror_mode": {
    "name": "ipython",
    "version": 3
   },
   "file_extension": ".py",
   "mimetype": "text/x-python",
   "name": "python",
   "nbconvert_exporter": "python",
   "pygments_lexer": "ipython3",
   "version": "3.6.9"
  }
 },
 "nbformat": 4,
 "nbformat_minor": 4
}
