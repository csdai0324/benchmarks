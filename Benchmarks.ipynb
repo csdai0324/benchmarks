{
 "cells": [
  {
   "cell_type": "code",
   "execution_count": 67,
   "metadata": {
    "ExecuteTime": {
     "end_time": "2020-07-07T03:27:24.306642Z",
     "start_time": "2020-07-07T03:27:24.303971Z"
    }
   },
   "outputs": [],
   "source": [
    "import math\n",
    "import string\n",
    "import functools \n",
    "\n",
    "from IPython.display import display, Math, Latex, Markdown"
   ]
  },
  {
   "cell_type": "code",
   "execution_count": 53,
   "metadata": {
    "ExecuteTime": {
     "end_time": "2020-07-07T03:21:51.202651Z",
     "start_time": "2020-07-07T03:21:51.195558Z"
    }
   },
   "outputs": [],
   "source": [
    "ref_1 = 'The cat sat on the mat.'\n",
    "cand_1 = 'The cat is on the mat.'\n",
    "ref_2 = 'There is a cat on the mat.'\n",
    "cand_2 = 'The the the the the the the the.'\n",
    "\n",
    "punctuation_list = string.punctuation\n",
    "preprocess = lambda x: x.lower().translate(str.maketrans('', '', string.punctuation))\n",
    "\n",
    "def extract(sentence):\n",
    "    sentence = preprocess(sentence)\n",
    "    uni_gram = sentence.split()\n",
    "    bi_gram = [' '.join(words) for words in zip(uni_gram[::], uni_gram[1::])]\n",
    "    tri_gram = [' '.join(words) for words in zip(uni_gram[::], uni_gram[1::], uni_gram[2::])]\n",
    "    quad_gram = [' '.join(words) for words in zip(uni_gram[::], uni_gram[1::], uni_gram[2::], uni_gram[3::])]\n",
    "    return uni_gram, bi_gram, tri_gram, quad_gram"
   ]
  },
  {
   "cell_type": "markdown",
   "metadata": {},
   "source": [
    "## N-gram Evaluation"
   ]
  },
  {
   "cell_type": "markdown",
   "metadata": {
    "ExecuteTime": {
     "end_time": "2020-07-06T05:59:24.638338Z",
     "start_time": "2020-07-06T05:59:24.636203Z"
    },
    "variables": {
     "cand_1": "The cat is on the mat.",
     "extract(cand_1)[0]": "[&#39;the&#39;, &#39;cat&#39;, &#39;is&#39;, &#39;on&#39;, &#39;the&#39;, &#39;mat&#39;]",
     "extract(cand_1)[1]": "[&#39;the cat&#39;, &#39;cat is&#39;, &#39;is on&#39;, &#39;on the&#39;, &#39;the mat&#39;]",
     "extract(cand_1)[2]": "[&#39;the cat is&#39;, &#39;cat is on&#39;, &#39;is on the&#39;, &#39;on the mat&#39;]",
     "extract(ref_1)[0]": "[&#39;the&#39;, &#39;cat&#39;, &#39;sat&#39;, &#39;on&#39;, &#39;the&#39;, &#39;mat&#39;]",
     "extract(ref_1)[1]": "[&#39;the cat&#39;, &#39;cat sat&#39;, &#39;sat on&#39;, &#39;on the&#39;, &#39;the mat&#39;]",
     "extract(ref_1)[2]": "[&#39;the cat sat&#39;, &#39;cat sat on&#39;, &#39;sat on the&#39;, &#39;on the mat&#39;]",
     "fn(cand_1)": "the cat is on the mat",
     "fn(ref_1)": "the cat sat on the mat",
     "ref_1": "The cat sat on the mat."
    }
   },
   "source": [
    "### Example \n",
    "\n",
    "Reference\n",
    "\n",
    "`{{ref_1}}` \n",
    "\n",
    "$\\xrightarrow[\\text{}]{\\text{ Preprocessing }}$ `{{fn(ref_1)}}` \n",
    "     \n",
    "$\\xrightarrow[\\text{}]{\\text{Extract 1-gram}} $ `{{extract(ref_1)[0]}}`\n",
    "     \n",
    "$\\xrightarrow[\\text{}]{\\text{Extract 2-gram}} $ `{{extract(ref_1)[1]}}` \n",
    "\n",
    "$\\xrightarrow[\\text{}]{\\text{Extract 3-gram}} $ `{{extract(ref_1)[2]}}` \n",
    "\n",
    "Candidate\n",
    "\n",
    "`{{cand_1}}`\n",
    "\n",
    "$\\xrightarrow[\\text{}]{\\text{ Preprocessing }}$ `{{fn(cand_1)}}` \n",
    "     \n",
    "$\\xrightarrow[\\text{}]{\\text{Extract 1-gram}} $ `{{extract(cand_1)[0]}}` \n",
    "     \n",
    "$\\xrightarrow[\\text{}]{\\text{Extract 2-gram}} $ `{{extract(cand_1)[1]}}` \n",
    "\n",
    "$\\xrightarrow[\\text{}]{\\text{Extract 3-gram}} $ `{{extract(cand_1)[2]}}` "
   ]
  },
  {
   "cell_type": "markdown",
   "metadata": {
    "ExecuteTime": {
     "end_time": "2020-07-06T08:23:53.658343Z",
     "start_time": "2020-07-06T08:23:53.652476Z"
    }
   },
   "source": [
    "## Considering Recall %\n",
    "\n",
    "### Modified Precision - Clipping"
   ]
  },
  {
   "cell_type": "markdown",
   "metadata": {
    "ExecuteTime": {
     "end_time": "2020-07-06T05:59:24.638338Z",
     "start_time": "2020-07-06T05:59:24.636203Z"
    },
    "variables": {
     "cand_2": "The the the the the the the the.",
     "extract(cand_2)[0]": "[&#39;the&#39;, &#39;the&#39;, &#39;the&#39;, &#39;the&#39;, &#39;the&#39;, &#39;the&#39;, &#39;the&#39;, &#39;the&#39;]",
     "extract(cand_2)[1]": "[&#39;the the&#39;, &#39;the the&#39;, &#39;the the&#39;, &#39;the the&#39;, &#39;the the&#39;, &#39;the the&#39;, &#39;the the&#39;]",
     "extract(cand_2)[2][:2] + ['...']": "[&#39;the the the&#39;, &#39;the the the&#39;, &#39;...&#39;]",
     "fn(cand_2)": "the the the the the the the the"
    }
   },
   "source": [
    "### Example \n",
    "\n",
    "Candidate\n",
    "\n",
    "`{{cand_2}}` \n",
    "\n",
    "$\\xrightarrow[\\text{}]{\\text{ Preprocessing }}$ `{{fn(cand_2)}}` \n",
    "     \n",
    "$\\xrightarrow[\\text{}]{\\text{Extract 1-gram}} $ `{{extract(cand_2)[0]}}`\n",
    "     \n",
    "$\\xrightarrow[\\text{}]{\\text{Extract 2-gram}} $ `{{extract(cand_2)[1]}}` \n",
    "\n",
    "$\\xrightarrow[\\text{}]{\\text{Extract 3-gram}} $ `{{extract(cand_2)[2][:2] + ['...']}}` "
   ]
  },
  {
   "cell_type": "markdown",
   "metadata": {},
   "source": [
    "## [BLEU - Bilingual Evaluation Understudy](https://www.aclweb.org/anthology/P02-1040.pdf)\n",
    "\n",
    "### Formula\n",
    "$\n",
    "\\begin{align}\n",
    "    \\quad\n",
    "        BLEU = BP \\cdot exp(\\sum_{n=1}^{N} w_n\\log_{}{P_n}) \\cr\n",
    "\\end{align}\n",
    "$\n",
    "    \n",
    "$\n",
    "\\begin{align}\n",
    "    \\quad\n",
    "        BP \\quad\\,\\ = \\begin{cases} \n",
    "                        1         &, \\ c > r   \\cr\n",
    "                        exp(1-\\frac{r}{c}) &, \\ c \\leq 0   \\cr\n",
    "                      \\end{cases} \n",
    "\\end{align}\n",
    "$"
   ]
  },
  {
   "cell_type": "code",
   "execution_count": 70,
   "metadata": {
    "ExecuteTime": {
     "end_time": "2020-07-07T03:29:07.903873Z",
     "start_time": "2020-07-07T03:29:07.894369Z"
    }
   },
   "outputs": [
    {
     "data": {
      "text/plain": [
       "0.5946035575013605"
      ]
     },
     "execution_count": 70,
     "metadata": {},
     "output_type": "execute_result"
    }
   ],
   "source": [
    "def BLEU_n(candidate, reference):\n",
    "    candidate = extract(candidate)\n",
    "    reference = extract(reference)\n",
    "    BLEU = 0\n",
    "    W_n = 1. / len(candidate)\n",
    "    for cand, ref in zip(candidate, reference):\n",
    "        BLEU += W_n * math.log(P_n(cand, ref))\n",
    "    BLEU = math.exp(BLEU) * BP(candidate[0], reference[0])\n",
    "    return BLEU\n",
    "\n",
    "def P_n(cand, ref):\n",
    "    count = 0\n",
    "    for c in cand:\n",
    "        if c in ref:\n",
    "            count += 1\n",
    "            ref.remove(c)\n",
    "    return 1 if count == 0 else count / len(cand)\n",
    "    \n",
    "def BP(candidate, reference):\n",
    "    c, r = len(candidate), len(reference)\n",
    "    return 1 if c > r else math.exp(1 - r / c)"
   ]
  },
  {
   "cell_type": "code",
   "execution_count": null,
   "metadata": {},
   "outputs": [],
   "source": []
  }
 ],
 "metadata": {
  "gist": {
   "data": {
    "description": "Benchmarks.ipynb",
    "public": true
   },
   "id": ""
  },
  "kernelspec": {
   "display_name": "Python 3",
   "language": "python",
   "name": "python3"
  },
  "language_info": {
   "codemirror_mode": {
    "name": "ipython",
    "version": 3
   },
   "file_extension": ".py",
   "mimetype": "text/x-python",
   "name": "python",
   "nbconvert_exporter": "python",
   "pygments_lexer": "ipython3",
   "version": "3.6.9"
  }
 },
 "nbformat": 4,
 "nbformat_minor": 4
}
